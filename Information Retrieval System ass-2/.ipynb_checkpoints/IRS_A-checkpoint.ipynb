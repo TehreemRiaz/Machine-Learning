{
 "cells": [
  {
   "cell_type": "markdown",
   "metadata": {},
   "source": [
    "# Assignment 2 IRS"
   ]
  },
  {
   "cell_type": "markdown",
   "metadata": {},
   "source": [
    "Information retrieval is the process of obtaining information system resources that are relevant to an information need from a collection of those resources. The core purpose of this assignment is to give you the flavor of IRS. You need to follow some steps listed below and in the end, you'll be able to build your own small IRS. So, let's start."
   ]
  },
  {
   "cell_type": "code",
   "execution_count": 62,
   "metadata": {},
   "outputs": [],
   "source": [
    "# required imports\n",
    "import numpy as np\n",
    "import fnmatch\n",
    "import os\n"
   ]
  },
  {
   "cell_type": "markdown",
   "metadata": {},
   "source": [
    "Suppose we have 3 files containing data :"
   ]
  },
  {
   "cell_type": "markdown",
   "metadata": {},
   "source": [
    "### File Contents"
   ]
  },
  {
   "cell_type": "markdown",
   "metadata": {},
   "source": [
    "![\"This is my book\" - File 1](https://github.com/ahmad-14a/CS-F20-ML/blob/main/IRS-Assignment%201/f1.png?raw=true)\n",
    "![\"This is my pen\" - File 1](https://github.com/ahmad-14a/CS-F20-ML/blob/main/IRS-Assignment%201/f2.png?raw=true)\n",
    "![\"This is book is intersting\" - File 1](https://github.com/ahmad-14a/CS-F20-ML/blob/main/IRS-Assignment%201/f3.png?raw=true)"
   ]
  },
  {
   "cell_type": "markdown",
   "metadata": {},
   "source": [
    "# Step 1 Create Files with Dummy data"
   ]
  },
  {
   "cell_type": "markdown",
   "metadata": {},
   "source": [
    "You have to create few files with dummy data of your own choice as shown above."
   ]
  },
  {
   "cell_type": "markdown",
   "metadata": {},
   "source": [
    "# Step 2 Traverse Directories"
   ]
  },
  {
   "cell_type": "markdown",
   "metadata": {},
   "source": [
    " Now, You have to traverse the directories and store all the files into a dict type variable(files_dict). "
   ]
  },
  {
   "cell_type": "code",
   "execution_count": 63,
   "metadata": {},
   "outputs": [],
   "source": [
    "# Here we have intialized some variables, you can add more if required.\n",
    "\n",
    "file_count = 0             # file_count to count number of files\n",
    "files_dict = {}            # files_dic to store count of every file    \n",
    "unique_word_set = set()    # unique_word_set to store all the unique words in a set\n"
   ]
  },
  {
   "cell_type": "code",
   "execution_count": 64,
   "metadata": {},
   "outputs": [
    {
     "name": "stdout",
     "output_type": "stream",
     "text": [
      "0\n",
      "1\n",
      "2\n",
      "3\n",
      "4\n",
      "5\n"
     ]
    }
   ],
   "source": [
    "#Your code starts here   \n",
    "files = [\"myfile1.txt\", \"myfile2.txt\", \"myfile3.txt\", \"f1.txt\",\"f2.txt\", \"f3.txt\"]\n",
    "file_count = len(files)\n",
    "i = 0\n",
    "for file_name in files:\n",
    "    f = \"files/\" + file_name\n",
    "    files_dict[f] = i\n",
    "    i += 1\n",
    "\n",
    "for key in files_dict:\n",
    "    print(files_dict[key])\n",
    "#Your code ends here  \n",
    "# files_dict"
   ]
  },
  {
   "cell_type": "markdown",
   "metadata": {},
   "source": [
    "Displaying the count of files."
   ]
  },
  {
   "cell_type": "code",
   "execution_count": 65,
   "metadata": {},
   "outputs": [
    {
     "name": "stdout",
     "output_type": "stream",
     "text": [
      "\n",
      "Total Number  of files\n",
      " 6\n"
     ]
    }
   ],
   "source": [
    "print(\"\\nTotal Number  of files\\n\", file_count)"
   ]
  },
  {
   "cell_type": "markdown",
   "metadata": {},
   "source": [
    "Displaying Dictionary containing all files."
   ]
  },
  {
   "cell_type": "code",
   "execution_count": 66,
   "metadata": {},
   "outputs": [
    {
     "name": "stdout",
     "output_type": "stream",
     "text": [
      "\n",
      "Dictionary containing  files\n",
      " {'files/myfile1.txt': 0, 'files/myfile2.txt': 1, 'files/myfile3.txt': 2, 'files/f1.txt': 3, 'files/f2.txt': 4, 'files/f3.txt': 5}\n"
     ]
    }
   ],
   "source": [
    "print(\"\\nDictionary containing  files\\n\", files_dict)"
   ]
  },
  {
   "cell_type": "markdown",
   "metadata": {},
   "source": [
    "# Step 3 Extract Unique Vocabulary"
   ]
  },
  {
   "cell_type": "markdown",
   "metadata": {},
   "source": [
    "write code to print all the unique words in every file and store them in a set"
   ]
  },
  {
   "cell_type": "code",
   "execution_count": 67,
   "metadata": {
    "scrolled": true
   },
   "outputs": [
    {
     "name": "stdout",
     "output_type": "stream",
     "text": [
      "Unique words in every file:\n",
      "['Pakistan', 'is', 'a', 'baeutiful', 'country']\n",
      "['Pakistan', 'Won', 'the', 'match']\n",
      "['Library', 'has', 'books']\n",
      "['This', 'is', 'my', 'book']\n",
      "['This', 'is', 'my', 'pen']\n",
      "['My', 'book', 'is', 'interesting']\n",
      "{'book', 'is', 'country', 'interesting', 'My', 'Pakistan', 'baeutiful', 'pen', 'books', 'match', 'has', 'Library', 'my', 'a', 'Won', 'the', 'This'}\n",
      "Count of files \t 6\n"
     ]
    }
   ],
   "source": [
    "#Your code starts here\n",
    "print(\"Unique words in every file:\")\n",
    "\n",
    "for file_name in files_dict:\n",
    "#     print(file_name)\n",
    "    f = open(file_name, 'r')\n",
    "    data = f.read()\n",
    "    data = data.split(\" \")\n",
    "    print(data)\n",
    "    for element in data:\n",
    "#         print(element) ;to print each word separately\n",
    "        unique_word_set.add(element)\n",
    "#         print(unique_word_set) ; to print the changes occuring in the set\n",
    "    f.close()\n",
    "\n",
    "print(unique_word_set)\n",
    "print(\"Count of files\",'\\t',  file_count)\n",
    "#Your code ends here"
   ]
  },
  {
   "cell_type": "markdown",
   "metadata": {},
   "source": [
    "### Expected Output\n",
    "Unique words in every file:\n",
    "{'Library', 'country', 'Won', 'books', 'a', 'is', 'pen', 'My', 'has', 'This', 'Pakistan', 'baeutiful', 'book', 'interesting', 'my', 'match', 'the'}\n",
    "Count of files \t 6"
   ]
  },
  {
   "cell_type": "markdown",
   "metadata": {},
   "source": [
    "![\"Expected Output of unique words\" - File 1](https://github.com/ahmad-14a/CS-F20-ML/blob/main/IRS-Assignment%201/o1.png?raw=true)"
   ]
  },
  {
   "cell_type": "markdown",
   "metadata": {},
   "source": [
    "# Step 4 Create Term Document Matrix"
   ]
  },
  {
   "cell_type": "markdown",
   "metadata": {},
   "source": [
    "Create Term-Doc-matrix using Bag of word approach.and display its contents initially and finally."
   ]
  },
  {
   "cell_type": "markdown",
   "metadata": {},
   "source": [
    "- Create Term doc matrix such that colmns will be unique words and all the files will be rows\n",
    "- Write code to count all the unique words appearances in all the files and store it in a dictionary for words "
   ]
  },
  {
   "cell_type": "code",
   "execution_count": 68,
   "metadata": {},
   "outputs": [
    {
     "name": "stdout",
     "output_type": "stream",
     "text": [
      "[[0 0 0 0 0 0 0 0 0 0 0 0 0 0 0 0 0]\n",
      " [0 0 0 0 0 0 0 0 0 0 0 0 0 0 0 0 0]\n",
      " [0 0 0 0 0 0 0 0 0 0 0 0 0 0 0 0 0]\n",
      " [0 0 0 0 0 0 0 0 0 0 0 0 0 0 0 0 0]\n",
      " [0 0 0 0 0 0 0 0 0 0 0 0 0 0 0 0 0]\n",
      " [0 0 0 0 0 0 0 0 0 0 0 0 0 0 0 0 0]]\n",
      "Dictionary of unique words:\n",
      " {'book': 0, 'is': 1, 'country': 2, 'interesting': 3, 'My': 4, 'Pakistan': 5, 'baeutiful': 6, 'pen': 7, 'books': 8, 'match': 9, 'has': 10, 'Library': 11, 'my': 12, 'a': 13, 'Won': 14, 'the': 15, 'This': 16}\n",
      "Dictionary of files:\n",
      " {'files/myfile1.txt': 0, 'files/myfile2.txt': 1, 'files/myfile3.txt': 2, 'files/f1.txt': 3, 'files/f2.txt': 4, 'files/f3.txt': 5}\n"
     ]
    }
   ],
   "source": [
    "#Your code starts here    \n",
    "data_size = len(unique_word_set)\n",
    "TERM_DOC_MATRIX = np.zeros((file_count, data_size), dtype=int)\n",
    "# print(data_size)\n",
    "print(TERM_DOC_MATRIX)\n",
    "words_dict = {}\n",
    "i = 0\n",
    "for e in unique_word_set:\n",
    "    words_dict[e] = i\n",
    "    i += 1\n",
    "\n",
    "print(f\"Dictionary of unique words:\\n {words_dict}\" )\n",
    "print(f\"Dictionary of files:\\n {files_dict}\")\n",
    "#Your code ends here"
   ]
  },
  {
   "cell_type": "markdown",
   "metadata": {},
   "source": [
    "### Expected Output"
   ]
  },
  {
   "cell_type": "markdown",
   "metadata": {},
   "source": [
    "![\"Expected Output of unique words\" - File 1](https://github.com/ahmad-14a/CS-F20-ML/blob/main/IRS-Assignment%201/o2.png?raw=true)"
   ]
  },
  {
   "cell_type": "markdown",
   "metadata": {},
   "source": [
    "# Step 5 Fill Term Document Matrix"
   ]
  },
  {
   "cell_type": "markdown",
   "metadata": {},
   "source": [
    "- Fill the term doc matrix by checking if the unique word exists in a file or not\n",
    "- If it exists then substitute a 1 in term_doc_matrix (eg : TERM_DOC_MATRIX[file][word] = 1 ) \n",
    "- Do the same for all the files present in the directory"
   ]
  },
  {
   "cell_type": "code",
   "execution_count": 87,
   "metadata": {},
   "outputs": [
    {
     "name": "stdout",
     "output_type": "stream",
     "text": [
      "Dictionary of unique words:\n",
      " {'book': 0, 'is': 1, 'country': 2, 'interesting': 3, 'My': 4, 'Pakistan': 5, 'baeutiful': 6, 'pen': 7, 'books': 8, 'match': 9, 'has': 10, 'Library': 11, 'my': 12, 'a': 13, 'Won': 14, 'the': 15, 'This': 16}\n",
      "\n",
      "Term Document Matrix\n",
      "[[0 1 1 0 0 1 1 0 0 0 0 0 0 1 0 0 0]\n",
      " [0 0 0 0 0 1 0 0 0 1 0 0 0 0 1 1 0]\n",
      " [0 0 0 0 0 0 0 0 1 0 1 1 0 0 0 0 0]\n",
      " [1 1 0 0 0 0 0 0 0 0 0 0 1 0 0 0 1]\n",
      " [0 1 0 0 0 0 0 1 0 0 0 0 1 0 0 0 1]\n",
      " [1 1 0 1 1 0 0 0 0 0 0 0 0 0 0 0 0]]\n",
      "[[0 'is' 'country' 0 0 'Pakistan' 'baeutiful' 0 0 0 0 0 0 'a' 0 0 0]\n",
      " [0 0 0 0 0 'Pakistan' 0 0 0 'match' 0 0 0 0 'Won' 'the' 0]\n",
      " [0 0 0 0 0 0 0 0 'books' 0 'has' 'Library' 0 0 0 0 0]\n",
      " ['book' 'is' 0 0 0 0 0 0 0 0 0 0 'my' 0 0 0 'This']\n",
      " [0 'is' 0 0 0 0 0 'pen' 0 0 0 0 'my' 0 0 0 'This']\n",
      " ['book' 'is' 0 'interesting' 'My' 0 0 0 0 0 0 0 0 0 0 0 0]]\n"
     ]
    }
   ],
   "source": [
    "#Your code starts here \n",
    "print(f\"Dictionary of unique words:\\n {words_dict}\\n\" )\n",
    "print(\"Term Document Matrix\")\n",
    "words = np.zeros((file_count, data_size), dtype=object)\n",
    "\n",
    "for e in unique_word_set:\n",
    "    for file in files_dict:\n",
    "        f = open(file, 'r')\n",
    "        data = f.read()\n",
    "        data = data.split()\n",
    "        if e in data:\n",
    "            TERM_DOC_MATRIX[files_dict[file]][words_dict[e]] = 1\n",
    "            words[files_dict[file]][words_dict[e]] = e\n",
    "\n",
    "        f.close()\n",
    "print(TERM_DOC_MATRIX)\n",
    "print(words)\n",
    "\n",
    "\n",
    "\n",
    "#Your code ends here"
   ]
  },
  {
   "cell_type": "markdown",
   "metadata": {},
   "source": [
    "### Expected Output"
   ]
  },
  {
   "cell_type": "markdown",
   "metadata": {},
   "source": [
    "![\"Expected Output of unique words\" - File 1](https://github.com/ahmad-14a/CS-F20-ML/blob/main/IRS-Assignment%201/o4.png?raw=true)\n"
   ]
  },
  {
   "cell_type": "markdown",
   "metadata": {},
   "source": [
    "# Step 6 Ask for a user Query"
   ]
  },
  {
   "cell_type": "markdown",
   "metadata": {},
   "source": [
    "For user query make a column vector of length of all the unique words present in a set"
   ]
  },
  {
   "cell_type": "code",
   "execution_count": 91,
   "metadata": {},
   "outputs": [
    {
     "data": {
      "text/plain": [
       "array([[0],\n",
       "       [0],\n",
       "       [0],\n",
       "       [0],\n",
       "       [0],\n",
       "       [0],\n",
       "       [0],\n",
       "       [0],\n",
       "       [0],\n",
       "       [0],\n",
       "       [0],\n",
       "       [0],\n",
       "       [0],\n",
       "       [0],\n",
       "       [0],\n",
       "       [0],\n",
       "       [0]])"
      ]
     },
     "execution_count": 91,
     "metadata": {},
     "output_type": "execute_result"
    }
   ],
   "source": [
    "#Your code starts here    \n",
    "colVector = np.zeros((len(unique_word_set), 1), dtype=int)\n",
    "colVector\n",
    "#Your code ends here"
   ]
  },
  {
   "cell_type": "markdown",
   "metadata": {},
   "source": [
    "### Expected Output"
   ]
  },
  {
   "cell_type": "markdown",
   "metadata": {},
   "source": [
    "![\"Expected Output of unique words\" - File 1](https://github.com/ahmad-14a/CS-F20-ML/blob/main/IRS-Assignment%201/o5.png?raw=true)\n"
   ]
  },
  {
   "cell_type": "code",
   "execution_count": 92,
   "metadata": {},
   "outputs": [
    {
     "name": "stdout",
     "output_type": "stream",
     "text": [
      "\n",
      "Write something for searching  This is my book\n"
     ]
    }
   ],
   "source": [
    "query = input(\"\\nWrite something for searching  \")\n",
    "# Check every word of query if it exists in the set of unique words or not\n",
    "# If exists then increment the count of that word in word dictionary\n"
   ]
  },
  {
   "cell_type": "code",
   "execution_count": 93,
   "metadata": {},
   "outputs": [
    {
     "name": "stdout",
     "output_type": "stream",
     "text": [
      "{'book': 0, 'is': 1, 'country': 2, 'interesting': 3, 'My': 4, 'Pakistan': 5, 'baeutiful': 6, 'pen': 7, 'books': 8, 'match': 9, 'has': 10, 'Library': 11, 'my': 12, 'a': 13, 'Won': 14, 'the': 15, 'This': 16}\n",
      "This is my book\n",
      "This\n",
      "is\n",
      "my\n",
      "book\n",
      "[['book']\n",
      " ['is']\n",
      " [0]\n",
      " [0]\n",
      " [0]\n",
      " [0]\n",
      " [0]\n",
      " [0]\n",
      " [0]\n",
      " [0]\n",
      " [0]\n",
      " [0]\n",
      " ['my']\n",
      " [0]\n",
      " [0]\n",
      " [0]\n",
      " ['This']]\n",
      "[[1]\n",
      " [1]\n",
      " [0]\n",
      " [0]\n",
      " [0]\n",
      " [0]\n",
      " [0]\n",
      " [0]\n",
      " [0]\n",
      " [0]\n",
      " [0]\n",
      " [0]\n",
      " [1]\n",
      " [0]\n",
      " [0]\n",
      " [0]\n",
      " [1]]\n"
     ]
    }
   ],
   "source": [
    "#Your code starts here \n",
    "print(words_dict)\n",
    "print(query)\n",
    "words = np.zeros((len(unique_word_set), 1), dtype=object)\n",
    "\n",
    "# words_dict.keys()\n",
    "splitted_query = query.split()\n",
    "\n",
    "for word in splitted_query:\n",
    "    print(word)\n",
    "    if word in unique_word_set:\n",
    "        colVector[words_dict[word]][0] += 1\n",
    "        words[words_dict[word]][0] = word\n",
    "colVector\n",
    "print(words)\n",
    "print(colVector)\n",
    "#Your code ends here"
   ]
  },
  {
   "cell_type": "markdown",
   "metadata": {},
   "source": [
    "### Expected Output"
   ]
  },
  {
   "cell_type": "markdown",
   "metadata": {},
   "source": [
    "![\"Expected Output of unique words\" - File 1](https://github.com/ahmad-14a/CS-F20-ML/blob/main/IRS-Assignment%201/o6.png?raw=true)\n"
   ]
  },
  {
   "cell_type": "markdown",
   "metadata": {},
   "source": [
    "# Step 7 Display Resultant Vector"
   ]
  },
  {
   "cell_type": "markdown",
   "metadata": {},
   "source": [
    "Display \n",
    "1. Resultant vector.\n",
    "2. Max value in resultant vector.\n",
    "3. Index of max value in resultant vector.\n"
   ]
  },
  {
   "cell_type": "code",
   "execution_count": 94,
   "metadata": {},
   "outputs": [
    {
     "name": "stdout",
     "output_type": "stream",
     "text": [
      "result\n",
      "[[1]\n",
      " [0]\n",
      " [0]\n",
      " [4]\n",
      " [3]\n",
      " [2]]\n",
      "max_index\n",
      "3\n",
      "max\n",
      "4\n"
     ]
    }
   ],
   "source": [
    "#Your code starts here  \n",
    "resultant = np.dot(TERM_DOC_MATRIX, colVector)\n",
    "print(f'result\\n{resultant}')\n",
    "print(f'max_index\\n{np.argmax(resultant)}')\n",
    "print(f'max\\n{np.max(resultant)}')\n",
    "#Your code ends here"
   ]
  },
  {
   "cell_type": "markdown",
   "metadata": {},
   "source": [
    "### Expected Output"
   ]
  },
  {
   "cell_type": "markdown",
   "metadata": {},
   "source": [
    "![\"Expected Output of unique words\" - File 1](https://github.com/ahmad-14a/CS-F20-ML/blob/main/IRS-Assignment%201/o7.png?raw=true)\n"
   ]
  },
  {
   "cell_type": "markdown",
   "metadata": {},
   "source": [
    "# Step 8 Display the contents of file\n"
   ]
  },
  {
   "cell_type": "markdown",
   "metadata": {},
   "source": [
    "Write the code to identify the file_name having maximum value in the resultant vector and display its contents."
   ]
  },
  {
   "cell_type": "code",
   "execution_count": 95,
   "metadata": {},
   "outputs": [
    {
     "name": "stdout",
     "output_type": "stream",
     "text": [
      "files/f1.txt\n",
      "This is my book\n"
     ]
    }
   ],
   "source": [
    "#Your code starts here \n",
    "maxim = np.argmax(resultant)\n",
    "for file in files_dict:\n",
    "    if files_dict[file] == maxim:\n",
    "        f = open(file, 'r')\n",
    "        data = f.read()\n",
    "        print(f'{file}\\n{data}')\n",
    "        f.close()\n",
    "\n",
    "#Your code ends here"
   ]
  },
  {
   "cell_type": "markdown",
   "metadata": {},
   "source": [
    "Congratulations Now you are able to build your own small IRS."
   ]
  },
  {
   "cell_type": "code",
   "execution_count": null,
   "metadata": {},
   "outputs": [],
   "source": []
  }
 ],
 "metadata": {
  "kernelspec": {
   "display_name": "Python 3 (ipykernel)",
   "language": "python",
   "name": "python3"
  },
  "language_info": {
   "codemirror_mode": {
    "name": "ipython",
    "version": 3
   },
   "file_extension": ".py",
   "mimetype": "text/x-python",
   "name": "python",
   "nbconvert_exporter": "python",
   "pygments_lexer": "ipython3",
   "version": "3.11.5"
  }
 },
 "nbformat": 4,
 "nbformat_minor": 4
}
