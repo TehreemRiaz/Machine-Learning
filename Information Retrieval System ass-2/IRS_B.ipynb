{
 "cells": [
  {
   "cell_type": "markdown",
   "metadata": {},
   "source": [
    "# Assignment 2 IRS - With Synonyms"
   ]
  },
  {
   "cell_type": "markdown",
   "metadata": {},
   "source": [
    "Information retrieval is the process of obtaining information system resources that are relevant to an information need from a collection of those resources. The core purpose of this assignment is to give you the flavor of IRS. You need to follow some steps listed below and in the end, you'll be able to build your own small IRS. So, let's start."
   ]
  },
  {
   "cell_type": "code",
   "execution_count": 114,
   "metadata": {},
   "outputs": [],
   "source": [
    "# required imports\n",
    "import numpy as np\n",
    "import fnmatch\n",
    "import os\n"
   ]
  },
  {
   "cell_type": "markdown",
   "metadata": {},
   "source": [
    "Suppose we have 3 files containing data :"
   ]
  },
  {
   "cell_type": "markdown",
   "metadata": {},
   "source": [
    "### File Contents"
   ]
  },
  {
   "cell_type": "markdown",
   "metadata": {},
   "source": [
    "![\"This is my book\" - File 1](https://github.com/ahmad-14a/CS-F20-ML/blob/main/IRS-Assignment%201/f1.png?raw=true)\n",
    "![\"This is my pen\" - File 1](https://github.com/ahmad-14a/CS-F20-ML/blob/main/IRS-Assignment%201/f2.png?raw=true)\n",
    "![\"This is book is intersting\" - File 1](https://github.com/ahmad-14a/CS-F20-ML/blob/main/IRS-Assignment%201/f3.png?raw=true)"
   ]
  },
  {
   "cell_type": "markdown",
   "metadata": {},
   "source": [
    "# Step 1 Create Files with Dummy data"
   ]
  },
  {
   "cell_type": "markdown",
   "metadata": {},
   "source": [
    "You have to create few files with dummy data of your own choice as shown above."
   ]
  },
  {
   "cell_type": "markdown",
   "metadata": {},
   "source": [
    "# Step 2 Traverse Directories"
   ]
  },
  {
   "cell_type": "markdown",
   "metadata": {},
   "source": [
    " Now, You have to traverse the directories and store all the files into a dict type variable(files_dict). "
   ]
  },
  {
   "cell_type": "code",
   "execution_count": 115,
   "metadata": {},
   "outputs": [],
   "source": [
    "# Here we have initialized some variables, you can add more if required.\n",
    "\n",
    "file_count = 0             # file_count to count number of files\n",
    "files_dict = {}            # files_dic to store count of every file    \n",
    "unique_word_set = set()    # unique_word_set to store all the unique words in a set\n"
   ]
  },
  {
   "cell_type": "code",
   "execution_count": 116,
   "metadata": {},
   "outputs": [
    {
     "name": "stdout",
     "output_type": "stream",
     "text": [
      "0\n",
      "1\n",
      "2\n",
      "3\n",
      "4\n",
      "5\n"
     ]
    }
   ],
   "source": [
    "#Your code starts here   \n",
    "files = [\"myfile1.txt\", \"myfile2.txt\", \"myfile3.txt\", \"f1.txt\",\"f2.txt\", \"f3.txt\"]\n",
    "file_count = len(files)\n",
    "i = 0\n",
    "for file_name in files:\n",
    "    f = \"files/\" + file_name\n",
    "    files_dict[f] = i\n",
    "    i += 1\n",
    "\n",
    "for key in files_dict:\n",
    "    print(files_dict[key])\n",
    "#Your code ends here       "
   ]
  },
  {
   "cell_type": "markdown",
   "metadata": {},
   "source": [
    "Displaying the count of files."
   ]
  },
  {
   "cell_type": "code",
   "execution_count": 117,
   "metadata": {},
   "outputs": [
    {
     "name": "stdout",
     "output_type": "stream",
     "text": [
      "\n",
      "Total Number  of files\n",
      " 6\n"
     ]
    }
   ],
   "source": [
    "print(\"\\nTotal Number  of files\\n\", file_count)"
   ]
  },
  {
   "cell_type": "markdown",
   "metadata": {},
   "source": [
    "Displaying Dictionary containing all files."
   ]
  },
  {
   "cell_type": "code",
   "execution_count": 118,
   "metadata": {},
   "outputs": [
    {
     "name": "stdout",
     "output_type": "stream",
     "text": [
      "\n",
      "Dictionary containing  files\n",
      " {'files/myfile1.txt': 0, 'files/myfile2.txt': 1, 'files/myfile3.txt': 2, 'files/f1.txt': 3, 'files/f2.txt': 4, 'files/f3.txt': 5}\n"
     ]
    }
   ],
   "source": [
    "print(\"\\nDictionary containing  files\\n\", files_dict)"
   ]
  },
  {
   "cell_type": "markdown",
   "metadata": {},
   "source": [
    "# Step 3 Extract Unique Vocabulary"
   ]
  },
  {
   "cell_type": "markdown",
   "metadata": {},
   "source": [
    "write code to print all the unique words in every file and store them in a set"
   ]
  },
  {
   "cell_type": "code",
   "execution_count": 119,
   "metadata": {},
   "outputs": [
    {
     "name": "stdout",
     "output_type": "stream",
     "text": [
      "Unique words in every file:\n",
      "{'books', 'Pakistan', 'country', 'match', 'my', 'interesting', 'the', 'book', 'is', 'pen', 'a', 'has', 'baeutiful', 'Library', 'This', 'Won', 'My'}\n",
      "Count of files \t 6\n"
     ]
    }
   ],
   "source": [
    "#Your code starts here    \n",
    "print(\"Unique words in every file:\")\n",
    "for file_name in files_dict:\n",
    "    f = open(file_name, 'r')\n",
    "    data = f.read()\n",
    "    data = data.split(\" \")\n",
    "    for element in data:\n",
    "        unique_word_set.add(element)\n",
    "    f.close()\n",
    "\n",
    "print(unique_word_set)\n",
    "print(\"Count of files\",'\\t',  file_count)\n",
    "#Your code ends here"
   ]
  },
  {
   "cell_type": "markdown",
   "metadata": {},
   "source": [
    "### Expected Output"
   ]
  },
  {
   "cell_type": "markdown",
   "metadata": {},
   "source": [
    "![\"Expected Output of unique words\" - File 1](https://github.com/ahmad-14a/CS-F20-ML/blob/main/IRS-Assignment%201/o1.png?raw=true)\n"
   ]
  },
  {
   "cell_type": "markdown",
   "metadata": {},
   "source": [
    "# Step 4 Create Term Document Matrix"
   ]
  },
  {
   "cell_type": "markdown",
   "metadata": {},
   "source": [
    "Create Term-Doc-matrix using Bag of word approach.and display its contents initially and finally."
   ]
  },
  {
   "cell_type": "markdown",
   "metadata": {},
   "source": [
    "1. Create Term doc matrix such that colmns will be unique words and all the files will be rows\n",
    "2. Write code to count all the unique words appearances in all the files and store it in a dictionary for words "
   ]
  },
  {
   "cell_type": "code",
   "execution_count": 120,
   "metadata": {},
   "outputs": [
    {
     "name": "stdout",
     "output_type": "stream",
     "text": [
      "[[0 0 0 0 0 0 0 0 0 0 0 0 0 0 0 0 0]\n",
      " [0 0 0 0 0 0 0 0 0 0 0 0 0 0 0 0 0]\n",
      " [0 0 0 0 0 0 0 0 0 0 0 0 0 0 0 0 0]\n",
      " [0 0 0 0 0 0 0 0 0 0 0 0 0 0 0 0 0]\n",
      " [0 0 0 0 0 0 0 0 0 0 0 0 0 0 0 0 0]\n",
      " [0 0 0 0 0 0 0 0 0 0 0 0 0 0 0 0 0]]\n",
      "Dictionary of unique words:\n",
      " {'books': 0, 'Pakistan': 1, 'country': 2, 'match': 3, 'my': 4, 'interesting': 5, 'the': 6, 'book': 7, 'is': 8, 'pen': 9, 'a': 10, 'has': 11, 'baeutiful': 12, 'Library': 13, 'This': 14, 'Won': 15, 'My': 16}\n",
      "Dictionary of files:\n",
      " {'files/myfile1.txt': 0, 'files/myfile2.txt': 1, 'files/myfile3.txt': 2, 'files/f1.txt': 3, 'files/f2.txt': 4, 'files/f3.txt': 5}\n"
     ]
    }
   ],
   "source": [
    "data_size = len(unique_word_set)\n",
    "TERM_DOC_MATRIX = np.zeros((file_count, data_size), dtype=int)\n",
    "print(TERM_DOC_MATRIX)\n",
    "# creating a dictionary of unique words and thier indices against them\n",
    "words_dict = {}\n",
    "i = 0\n",
    "for e in unique_word_set:\n",
    "    words_dict[e] = i\n",
    "    i += 1\n",
    "\n",
    "print(f\"Dictionary of unique words:\\n {words_dict}\" )\n",
    "print(f\"Dictionary of files:\\n {files_dict}\")\n",
    "    \n"
   ]
  },
  {
   "cell_type": "markdown",
   "metadata": {},
   "source": [
    "### Expected Output"
   ]
  },
  {
   "cell_type": "markdown",
   "metadata": {},
   "source": [
    "![\"Expected Output of unique words\" - File 1](https://github.com/ahmad-14a/CS-F20-ML/blob/main/IRS-Assignment%201/o2.png?raw=true)"
   ]
  },
  {
   "cell_type": "markdown",
   "metadata": {},
   "source": [
    "# Step 5 Fill Term Document Matrix"
   ]
  },
  {
   "cell_type": "markdown",
   "metadata": {},
   "source": [
    "1. Fill the term doc matrix by checking if the unique word exists in a file or not\n",
    "2. If it exists then substitute a 1 in term_doc_matrix (eg : TERM_DOC_MATRIX[file][word] = 1 ) \n",
    "3. Do the same for all the files present in the directory"
   ]
  },
  {
   "cell_type": "code",
   "execution_count": 121,
   "metadata": {
    "scrolled": false
   },
   "outputs": [
    {
     "name": "stdout",
     "output_type": "stream",
     "text": [
      "Dictionary of unique words:\n",
      " {'books': 0, 'Pakistan': 1, 'country': 2, 'match': 3, 'my': 4, 'interesting': 5, 'the': 6, 'book': 7, 'is': 8, 'pen': 9, 'a': 10, 'has': 11, 'baeutiful': 12, 'Library': 13, 'This': 14, 'Won': 15, 'My': 16}\n",
      "\n",
      "Term Document Matrix\n",
      "[[0 1 1 0 0 0 0 0 1 0 1 0 1 0 0 0 0]\n",
      " [0 1 0 1 0 0 1 0 0 0 0 0 0 0 0 1 0]\n",
      " [1 0 0 0 0 0 0 0 0 0 0 1 0 1 0 0 0]\n",
      " [0 0 0 0 1 0 0 1 1 0 0 0 0 0 1 0 0]\n",
      " [0 0 0 0 1 0 0 0 1 1 0 0 0 0 1 0 0]\n",
      " [0 0 0 0 0 1 0 1 1 0 0 0 0 0 0 0 1]]\n"
     ]
    }
   ],
   "source": [
    "#Your code starts here    \n",
    "print(f\"Dictionary of unique words:\\n {words_dict}\\n\" )\n",
    "print(\"Term Document Matrix\")\n",
    "# words_mat = np.zeros((file_count, data_size), dtype=object)\n",
    "# iterating all files data to find the unique words and updating term document matrix based on the word\n",
    "for unique_word in unique_word_set:\n",
    "    for file in files_dict:\n",
    "        f = open(file, 'r')\n",
    "        data = f.read()\n",
    "        data = data.split()\n",
    "        if unique_word in data:\n",
    "            TERM_DOC_MATRIX[files_dict[file]][words_dict[unique_word]] = 1\n",
    "#             words_mat[files_dict[file]][words_dict[unique_word]] = unique_word\n",
    "        f.close()\n",
    "print(TERM_DOC_MATRIX)\n",
    "#Your code ends here"
   ]
  },
  {
   "cell_type": "markdown",
   "metadata": {},
   "source": [
    "### Expected Output"
   ]
  },
  {
   "cell_type": "markdown",
   "metadata": {},
   "source": [
    "![\"Expected Output of unique words\" - File 1](https://github.com/ahmad-14a/CS-F20-ML/blob/main/IRS-Assignment%201/o4.png?raw=true)\n"
   ]
  },
  {
   "cell_type": "markdown",
   "metadata": {},
   "source": [
    "# Step 6 Ask for a user Query"
   ]
  },
  {
   "cell_type": "markdown",
   "metadata": {},
   "source": [
    "For user query make a column vector of length of all the unique words present in a set"
   ]
  },
  {
   "cell_type": "code",
   "execution_count": 122,
   "metadata": {},
   "outputs": [
    {
     "data": {
      "text/plain": [
       "array([[0],\n",
       "       [0],\n",
       "       [0],\n",
       "       [0],\n",
       "       [0],\n",
       "       [0],\n",
       "       [0],\n",
       "       [0],\n",
       "       [0],\n",
       "       [0],\n",
       "       [0],\n",
       "       [0],\n",
       "       [0],\n",
       "       [0],\n",
       "       [0],\n",
       "       [0],\n",
       "       [0]])"
      ]
     },
     "execution_count": 122,
     "metadata": {},
     "output_type": "execute_result"
    }
   ],
   "source": [
    "#Your code starts here    \n",
    "colVector = np.zeros((len(unique_word_set), 1), dtype=int)\n",
    "colVector\n",
    "\n",
    "#Your code ends here"
   ]
  },
  {
   "cell_type": "markdown",
   "metadata": {},
   "source": [
    "### Expected Output"
   ]
  },
  {
   "cell_type": "markdown",
   "metadata": {},
   "source": [
    "![\"Expected Output of unique words\" - File 1](https://github.com/ahmad-14a/CS-F20-ML/blob/main/IRS-Assignment%201/o5.png?raw=true)\n"
   ]
  },
  {
   "cell_type": "code",
   "execution_count": 123,
   "metadata": {},
   "outputs": [
    {
     "name": "stdout",
     "output_type": "stream",
     "text": [
      "\n",
      "Write something for searching:  this is a fascinating publication written with a ballpoint\n",
      "Query is: this is a fascinating publication written with a ballpoint\n"
     ]
    }
   ],
   "source": [
    "query = input(\"\\nWrite something for searching:  \")\n",
    "print(\"Query is:\", query) #this is a fascinating publication written with a ballpoint"
   ]
  },
  {
   "cell_type": "markdown",
   "metadata": {},
   "source": [
    "### Expected Output"
   ]
  },
  {
   "cell_type": "markdown",
   "metadata": {},
   "source": [
    "![Expected Output of query](images/Query.png)"
   ]
  },
  {
   "cell_type": "markdown",
   "metadata": {},
   "source": [
    "# Step 7 Load Synonyms"
   ]
  },
  {
   "cell_type": "code",
   "execution_count": 130,
   "metadata": {},
   "outputs": [
    {
     "name": "stdout",
     "output_type": "stream",
     "text": [
      "\n",
      "Synonyms Dictionary\n",
      "\n",
      "{'write': ['compose', 'draft', 'author', 'create'], 'file': ['document', 'record', 'dossier', 'report'], 'example': ['illustration', 'instance', 'sample', 'demonstration'], 'query': ['question', 'inquiry', 'search', 'request'], 'synonym': ['equivalent', 'substitute', 'alternate', 'replacement'], 'retrieve': ['fetch', 'recover', 'obtain', 'bring back'], 'system': ['framework', 'structure', 'organization', 'arrangement'], 'search': ['seek', 'look for', 'explore', 'examine'], 'lost': ['misplaced', 'missing', 'forgotten', 'mislaid'], 'pen': ['write', 'ink', 'ballpoint', 'fountain'], 'paper': ['document', 'sheet', 'form', 'letter'], 'book': ['novel', 'volume', 'publication', 'tome'], 'read': ['peruse', 'scan', 'study', 'look at'], 'interesting': ['fascinating', 'engaging', 'intriguing', 'absorbing'], 'computer': ['machine', 'device', 'processor', 'laptop'], 'software': ['program', 'application', 'app', 'platform']}\n"
     ]
    }
   ],
   "source": [
    "synonym_file_path = r\"files\\synonyms.txt\"\n",
    "synonyms_dict = {} # dictionary to store synonyms\n",
    "#your code starts here\n",
    "file = open(synonym_file_path)\n",
    "data = file.readlines()\n",
    "for line in data:\n",
    "    ss = line.strip().split(':')\n",
    "    key = ss[0]\n",
    "    value = ss[1].split(',')\n",
    "    words = [v.strip() for v in value]\n",
    "    synonyms_dict[key] = words\n",
    "    \n",
    "\n",
    "\n",
    "#your code ends here\n",
    "\n",
    "print(\"\\nSynonyms Dictionary\\n\")\n",
    "print(synonyms_dict)"
   ]
  },
  {
   "cell_type": "markdown",
   "metadata": {},
   "source": [
    "### Expected Output"
   ]
  },
  {
   "cell_type": "markdown",
   "metadata": {},
   "source": [
    "![Synonym Dict Example](images\\Synonym_dict.png)"
   ]
  },
  {
   "cell_type": "markdown",
   "metadata": {},
   "source": [
    "# Step 8 Extend User Query"
   ]
  },
  {
   "cell_type": "code",
   "execution_count": 131,
   "metadata": {},
   "outputs": [
    {
     "name": "stdout",
     "output_type": "stream",
     "text": [
      "Expanded Query\n",
      "['this', 'is', 'a', 'fascinating', 'interesting', 'publication', 'book', 'written', 'with', 'a', 'ballpoint', 'pen']\n"
     ]
    }
   ],
   "source": [
    "expanded_query = []\n",
    "# Write code to expand the query using synonyms\n",
    "#your code starts here\n",
    "# print(query)\n",
    "splitted_query = query.split()\n",
    "for word in splitted_query:\n",
    "    expanded_query.append(word)\n",
    "    for key in synonyms_dict:\n",
    "        for val in synonyms_dict[key]:\n",
    "            \n",
    "            if val == word:\n",
    "                expanded_query.append(key)\n",
    "#                 print(expanded_query)\n",
    "\n",
    "\n",
    "#your code ends here\n",
    "\n",
    "print(\"Expanded Query\")\n",
    "print(expanded_query)"
   ]
  },
  {
   "cell_type": "markdown",
   "metadata": {},
   "source": [
    "### Expected Output"
   ]
  },
  {
   "cell_type": "markdown",
   "metadata": {},
   "source": [
    "![Extended Query](images\\Expanded_Query.png)"
   ]
  },
  {
   "cell_type": "markdown",
   "metadata": {},
   "source": [
    "Now work with extended query and find the relevant documents."
   ]
  },
  {
   "cell_type": "code",
   "execution_count": 126,
   "metadata": {},
   "outputs": [],
   "source": [
    "# Check every word of query if it exists in the set of unique words or not\n",
    "# If exists then increment the count of that word in word dictionary\n"
   ]
  },
  {
   "cell_type": "code",
   "execution_count": 132,
   "metadata": {},
   "outputs": [
    {
     "name": "stdout",
     "output_type": "stream",
     "text": [
      "[[0]\n",
      " [0]\n",
      " [0]\n",
      " [0]\n",
      " [0]\n",
      " [4]\n",
      " [0]\n",
      " [4]\n",
      " [2]\n",
      " [4]\n",
      " [4]\n",
      " [0]\n",
      " [0]\n",
      " [0]\n",
      " [0]\n",
      " [0]\n",
      " [0]]\n"
     ]
    }
   ],
   "source": [
    "#Your code starts here    \n",
    "\n",
    "# replacing all the synonyms with its keys in the expanded query\n",
    "for i in range(len(expanded_query)):\n",
    "    for key in synonyms_dict:\n",
    "        if expanded_query[i] in synonyms_dict[key]:\n",
    "            expanded_query[i] = key\n",
    "            \n",
    "# print(expanded_query)\n",
    "\n",
    "# updating col_vector\n",
    "for word in expanded_query:\n",
    "    if word in unique_word_set:\n",
    "        colVector[words_dict[word]][0] += 1\n",
    "\n",
    "\n",
    "print(colVector)\n",
    "#Your code ends here\n",
    "#Your code ends here"
   ]
  },
  {
   "cell_type": "markdown",
   "metadata": {},
   "source": [
    "### Expected Output"
   ]
  },
  {
   "cell_type": "markdown",
   "metadata": {},
   "source": [
    "![\"Expected Output of unique words\" - File 1](https://github.com/ahmad-14a/CS-F20-ML/blob/main/IRS-Assignment%201/o6.png?raw=true)\n"
   ]
  },
  {
   "cell_type": "markdown",
   "metadata": {},
   "source": [
    "# Step 7 Display Resultant Vector"
   ]
  },
  {
   "cell_type": "markdown",
   "metadata": {},
   "source": [
    "Display \n",
    "1. Resultant vector.\n",
    "2. Max value in resultant vector.\n",
    "3. Index of max value in resultant vector.\n"
   ]
  },
  {
   "cell_type": "code",
   "execution_count": 133,
   "metadata": {},
   "outputs": [
    {
     "name": "stdout",
     "output_type": "stream",
     "text": [
      "result\n",
      "[[ 6]\n",
      " [ 0]\n",
      " [ 0]\n",
      " [ 6]\n",
      " [ 6]\n",
      " [10]]\n",
      "max_index\n",
      "5\n",
      "max\n",
      "10\n"
     ]
    }
   ],
   "source": [
    "#Your code starts here  \n",
    "resultant = np.dot(TERM_DOC_MATRIX, colVector)\n",
    "print(f'result\\n{resultant}')\n",
    "print(f'max_index\\n{np.argmax(resultant)}')\n",
    "print(f'max\\n{np.max(resultant)}')\n",
    "#Your code ends here"
   ]
  },
  {
   "cell_type": "markdown",
   "metadata": {},
   "source": [
    "### Expected Output"
   ]
  },
  {
   "cell_type": "markdown",
   "metadata": {},
   "source": [
    "![\"Expected Output of unique words\" - File 1](https://github.com/ahmad-14a/CS-F20-ML/blob/main/IRS-Assignment%201/o7.png?raw=true)\n"
   ]
  },
  {
   "cell_type": "markdown",
   "metadata": {},
   "source": [
    "# Step 8 Display the contents of file\n"
   ]
  },
  {
   "cell_type": "markdown",
   "metadata": {},
   "source": [
    "Write the code to identify the file_name having maximum value in the resultant vector and display its contents."
   ]
  },
  {
   "cell_type": "code",
   "execution_count": 134,
   "metadata": {},
   "outputs": [
    {
     "name": "stdout",
     "output_type": "stream",
     "text": [
      "files/f3.txt\n",
      "My book is interesting\n"
     ]
    }
   ],
   "source": [
    "#Your code starts here    \n",
    "maxim = np.argmax(resultant)\n",
    "for file in files_dict:\n",
    "    if files_dict[file] == maxim:\n",
    "        f = open(file, 'r')\n",
    "        data = f.read()\n",
    "        print(f'{file}\\n{data}')\n",
    "        f.close()\n",
    "\n",
    "#Your code ends here"
   ]
  },
  {
   "cell_type": "markdown",
   "metadata": {},
   "source": [
    "Congratulations Now you are able to build your own small IRS which can work even if query does not have exact same words."
   ]
  },
  {
   "cell_type": "code",
   "execution_count": null,
   "metadata": {},
   "outputs": [],
   "source": []
  }
 ],
 "metadata": {
  "kernelspec": {
   "display_name": "Python 3 (ipykernel)",
   "language": "python",
   "name": "python3"
  },
  "language_info": {
   "codemirror_mode": {
    "name": "ipython",
    "version": 3
   },
   "file_extension": ".py",
   "mimetype": "text/x-python",
   "name": "python",
   "nbconvert_exporter": "python",
   "pygments_lexer": "ipython3",
   "version": "3.11.5"
  }
 },
 "nbformat": 4,
 "nbformat_minor": 4
}
