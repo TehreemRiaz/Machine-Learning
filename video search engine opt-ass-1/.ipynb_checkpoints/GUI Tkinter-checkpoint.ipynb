{
 "cells": [
  {
   "cell_type": "code",
   "execution_count": 1,
   "id": "624e4138",
   "metadata": {},
   "outputs": [],
   "source": [
    "import tkinter as tk\n",
    "\n",
    "# Create a new Tkinter window\n",
    "window = tk.Tk()\n",
    "window.title(\"GUI Example\")\n",
    "\n",
    "# Add a label widget\n",
    "label = tk.Label(window, text=\"Hello, Tkinter!\")\n",
    "label.pack()\n",
    "\n",
    "# Start the Tkinter event loop\n",
    "window.mainloop()\n"
   ]
  },
  {
   "cell_type": "code",
   "execution_count": 2,
   "id": "e9f896d6",
   "metadata": {},
   "outputs": [],
   "source": [
    "import tkinter as tk\n",
    "r = tk.Tk()\n",
    "r.title('Counting Seconds')\n",
    "button = tk.Button(r, text='Stop', width=25, command=r.destroy)\n",
    "button.pack()\n",
    "r.mainloop()\n"
   ]
  },
  {
   "cell_type": "code",
   "execution_count": 3,
   "id": "a5f0ce94",
   "metadata": {},
   "outputs": [],
   "source": [
    "from tkinter import *\n",
    "master = Tk()\n",
    "w = Canvas(master, width=40, height=60)\n",
    "w.pack()\n",
    "canvas_height=20\n",
    "canvas_width=200\n",
    "y = int(canvas_height / 2)\n",
    "w.create_line(0, y, canvas_width, y )\n",
    "mainloop()\n"
   ]
  },
  {
   "cell_type": "code",
   "execution_count": 4,
   "id": "ec7b5ea0",
   "metadata": {},
   "outputs": [],
   "source": [
    "from tkinter import *\n",
    "master = Tk()\n",
    "Label(master, text='First Name').grid(row=0)\n",
    "Label(master, text='Last Name').grid(row=1)\n",
    "e1 = Entry(master)\n",
    "e2 = Entry(master)\n",
    "e1.grid(row=0, column=1)\n",
    "e2.grid(row=1, column=1)\n",
    "mainloop()\n"
   ]
  },
  {
   "cell_type": "code",
   "execution_count": 8,
   "id": "10287058",
   "metadata": {},
   "outputs": [],
   "source": [
    "from tkinter import *\n",
    "\n",
    "root = Tk()\n",
    "frame = Frame(root)\n",
    "frame.pack()\n",
    "bottomframe = Frame(root)\n",
    "bottomframe.pack( side = BOTTOM )\n",
    "redbutton = Button(frame, text = 'Red', fg ='red')\n",
    "redbutton.pack( side = LEFT)\n",
    "greenbutton = Button(frame, text = 'Brown', fg='brown')\n",
    "greenbutton.pack( side = LEFT )\n",
    "bluebutton = Button(frame, text ='Blue', fg ='blue')\n",
    "bluebutton.pack( side = LEFT )\n",
    "blackbutton = Button(bottomframe, text ='Black', fg ='black',  command=root.destroy)\n",
    "blackbutton.pack( side = BOTTOM)\n",
    "root.mainloop()\n"
   ]
  },
  {
   "cell_type": "code",
   "execution_count": 2,
   "id": "be9ce029",
   "metadata": {},
   "outputs": [],
   "source": [
    "import tkinter as tk\n",
    "import cv2\n",
    "from tkinter import filedialog\n",
    "\n",
    "def open_file():\n",
    "    file_path = filedialog.askopenfilename()\n",
    "    if file_path:\n",
    "        play_video(file_path)\n",
    "\n",
    "def play_video(file_path):\n",
    "    cap = cv2.VideoCapture(file_path)\n",
    "    while cap.isOpened():\n",
    "        ret, frame = cap.read()\n",
    "        if ret:\n",
    "            cv2.imshow('Video Player', frame)\n",
    "            if cv2.waitKey(25) & 0xFF == ord('q'):\n",
    "                break\n",
    "        else:\n",
    "            break\n",
    "    cap.release()\n",
    "    cv2.destroyAllWindows()\n",
    "\n",
    "root = tk.Tk()\n",
    "root.title(\"Video Player\")\n",
    "\n",
    "open_button = tk.Button(root, text=\"Open Video\", command=open_file)\n",
    "open_button.pack()\n",
    "\n",
    "root.mainloop()\n"
   ]
  },
  {
   "cell_type": "code",
   "execution_count": null,
   "id": "ddda58bc",
   "metadata": {},
   "outputs": [],
   "source": [
    "import tkinter as tk\n",
    "from tkinter import filedialog\n",
    "from moviepy.editor import VideoFileClip\n",
    "\n",
    "def open_file():\n",
    "    file_path = filedialog.askopenfilename()\n",
    "    if file_path:\n",
    "        play_video(file_path)\n",
    "\n",
    "def play_video(file_path):\n",
    "    video_clip = VideoFileClip(file_path)\n",
    "    video_clip.preview()\n",
    "    video_clip.close()\n",
    "\n",
    "root = tk.Tk()\n",
    "root.title(\"Video Player\")\n",
    "\n",
    "open_button = tk.Button(root, text=\"Open Video\", command=open_file)\n",
    "open_button.pack()\n",
    "\n",
    "root.mainloop()\n"
   ]
  },
  {
   "cell_type": "code",
   "execution_count": 4,
   "id": "058eadd3",
   "metadata": {},
   "outputs": [
    {
     "ename": "ModuleNotFoundError",
     "evalue": "No module named 'deepspeech'",
     "output_type": "error",
     "traceback": [
      "\u001b[1;31m---------------------------------------------------------------------------\u001b[0m",
      "\u001b[1;31mModuleNotFoundError\u001b[0m                       Traceback (most recent call last)",
      "Cell \u001b[1;32mIn[4], line 3\u001b[0m\n\u001b[0;32m      1\u001b[0m \u001b[38;5;28;01mimport\u001b[39;00m \u001b[38;5;21;01mtkinter\u001b[39;00m \u001b[38;5;28;01mas\u001b[39;00m \u001b[38;5;21;01mtk\u001b[39;00m\n\u001b[0;32m      2\u001b[0m \u001b[38;5;28;01mfrom\u001b[39;00m \u001b[38;5;21;01mtkinter\u001b[39;00m \u001b[38;5;28;01mimport\u001b[39;00m filedialog\n\u001b[1;32m----> 3\u001b[0m \u001b[38;5;28;01mimport\u001b[39;00m \u001b[38;5;21;01mdeepspeech\u001b[39;00m\n\u001b[0;32m      4\u001b[0m \u001b[38;5;28;01mimport\u001b[39;00m \u001b[38;5;21;01mmoviepy\u001b[39;00m\u001b[38;5;21;01m.\u001b[39;00m\u001b[38;5;21;01meditor\u001b[39;00m \u001b[38;5;28;01mas\u001b[39;00m \u001b[38;5;21;01mmp\u001b[39;00m\n\u001b[0;32m      6\u001b[0m \u001b[38;5;66;03m# Function to extract audio from video file\u001b[39;00m\n",
      "\u001b[1;31mModuleNotFoundError\u001b[0m: No module named 'deepspeech'"
     ]
    }
   ],
   "source": [
    "import tkinter as tk\n",
    "from tkinter import filedialog\n",
    "# import deepspeech\n",
    "import moviepy.editor as mp\n",
    "\n",
    "# Function to extract audio from video file\n",
    "def extract_audio(video_file):\n",
    "    # Load video clip\n",
    "    video_clip = mp.VideoFileClip(video_file)\n",
    "    # Extract audio\n",
    "    audio_clip = video_clip.audio\n",
    "    return audio_clip.to_soundarray()\n",
    "\n",
    "# Function to transcribe audio to text using DeepSpeech\n",
    "def transcribe_audio(audio_data, model_path):\n",
    "    model = deepspeech.Model(model_path)\n",
    "    return model.stt(audio_data)\n",
    "\n",
    "# Function to handle file selection and conversion\n",
    "def convert_video_to_text():\n",
    "    file_path = filedialog.askopenfilename(filetypes=[(\"Video files\", \"*.mp4;*.avi;*.mov\")])\n",
    "    if file_path:\n",
    "        try:\n",
    "            # Extract audio from video\n",
    "            audio_data = extract_audio(file_path)\n",
    "            # Transcribe audio to text using DeepSpeech\n",
    "#             text = transcribe_audio(audio_data, DEEPSPEECH_MODEL_PATH)\n",
    "            # Display transcribed text in the GUI\n",
    "#             text_output.config(text=text)\n",
    "        except Exception as e:\n",
    "            text_output.config(text=f\"Error: {str(e)}\")\n",
    "\n",
    "# Create Tkinter GUI\n",
    "root = tk.Tk()\n",
    "root.title(\"Speech-to-Text from Video\")\n",
    "\n",
    "# Define path to the pre-trained DeepSpeech model (.pbmm file)\n",
    "# DEEPSPEECH_MODEL_PATH = r\"C:\\Users\\tehre\\anaconda3\\Library\\deepspeech_pretrained_model\"\n",
    "\n",
    "# Add GUI elements\n",
    "file_button = tk.Button(root, text=\"Select Video File\", command=convert_video_to_text)\n",
    "file_button.pack(pady=10)\n",
    "\n",
    "text_output = tk.Label(root, text=\"\")\n",
    "text_output.pack(pady=10)\n",
    "\n",
    "# Run the Tkinter event loop\n",
    "root.mainloop()\n"
   ]
  },
  {
   "cell_type": "code",
   "execution_count": null,
   "id": "a21e724d",
   "metadata": {},
   "outputs": [],
   "source": [
    "import tkinter as tk\n",
    "from tkinter import filedialog\n",
    "from moviepy.editor import VideoFileClip\n",
    "\n",
    "def get_audio():\n",
    "    file_path = filedialog.askopenfilename()\n",
    "    if file_path:\n",
    "        video_clip = VideoFileClip(file_path)\n",
    "        audio_clip = video_clip.audio\n",
    "        audio_clip.write_audiofile(\"output_audio.mp3\")\n",
    "        audio_clip.close()\n",
    "        video_clip.close()\n",
    "        print(\"Audio extracted successfully!\")\n",
    "\n",
    "root = tk.Tk()\n",
    "root.withdraw()  # Hide the main window\n",
    "\n",
    "get_audio()\n"
   ]
  },
  {
   "cell_type": "code",
   "execution_count": null,
   "id": "b38aafc1",
   "metadata": {},
   "outputs": [],
   "source": [
    "import tkinter as tk\n",
    "from tkinter import filedialog\n",
    "from moviepy.editor import VideoFileClip\n",
    "\n",
    "def open_file():\n",
    "    file_path = filedialog.askopenfilename()\n",
    "    if file_path:\n",
    "        play_video(file_path)\n",
    "\n",
    "def play_video(file_path):\n",
    "    video_clip = VideoFileClip(file_path)\n",
    "    video_clip.preview()\n",
    "\n",
    "def get_audio():\n",
    "    file_path = filedialog.askopenfilename()\n",
    "    if file_path:\n",
    "        video_clip = VideoFileClip(file_path)\n",
    "        audio_clip = video_clip.audio\n",
    "        audio_clip.write_audiofile(\"output_audio.mp3\")\n",
    "        audio_clip.close()\n",
    "        video_clip.close()\n",
    "        print(\"Audio extracted successfully!\")\n",
    "\n",
    "root = tk.Tk()\n",
    "# root.withdraw()  # Hide the main window\n",
    "root.title(\"Video Player\")\n",
    "\n",
    "open_button = tk.Button(root, text=\"Open Video\", command=open_file)\n",
    "open_button.pack()\n",
    "# get_audio()\n",
    "root.mainloop()\n"
   ]
  },
  {
   "cell_type": "code",
   "execution_count": 2,
   "id": "de182945",
   "metadata": {},
   "outputs": [],
   "source": [
    "import tkinter as tk\n",
    "from tkinter import filedialog\n",
    "from moviepy.editor import VideoFileClip\n",
    "\n",
    "def open_file():\n",
    "    file_path = filedialog.askopenfilename()\n",
    "    if file_path:\n",
    "        play_video(file_path)\n",
    "\n",
    "def play_video(file_path):\n",
    "    video_clip = VideoFileClip(file_path)\n",
    "    video_clip.preview()\n",
    "    video_clip.close()  # Close the video player window explicitly\n",
    "\n",
    "root = tk.Tk()\n",
    "root.title(\"Video Player\")\n",
    "\n",
    "open_button = tk.Button(root, text=\"Open Video\", command=open_file)\n",
    "open_button.pack()\n",
    "root.mainloop()\n"
   ]
  },
  {
   "cell_type": "code",
   "execution_count": 1,
   "id": "dc2044ad",
   "metadata": {},
   "outputs": [
    {
     "name": "stdout",
     "output_type": "stream",
     "text": [
      "MoviePy - Writing audio in output_audio.mp3\n"
     ]
    },
    {
     "name": "stderr",
     "output_type": "stream",
     "text": [
      "                                                                    \r"
     ]
    },
    {
     "name": "stdout",
     "output_type": "stream",
     "text": [
      "MoviePy - Done.\n",
      "Audio extracted successfully!\n"
     ]
    },
    {
     "ename": "SystemExit",
     "evalue": "0",
     "output_type": "error",
     "traceback": [
      "An exception has occurred, use %tb to see the full traceback.\n",
      "\u001b[1;31mSystemExit\u001b[0m\u001b[1;31m:\u001b[0m 0\n"
     ]
    }
   ],
   "source": [
    "import sys\n",
    "from PyQt5.QtWidgets import QApplication, QMainWindow, QPushButton, QFileDialog\n",
    "from moviepy.editor import VideoFileClip\n",
    "\n",
    "class MainWindow(QMainWindow):\n",
    "    def __init__(self):\n",
    "        super().__init__()\n",
    "\n",
    "        self.setWindowTitle(\"Video to Audio Converter\")\n",
    "\n",
    "        self.button = QPushButton(\"Select Video\", self)\n",
    "        self.button.setGeometry(50, 50, 200, 50)\n",
    "        self.button.clicked.connect(self.select_video)\n",
    "\n",
    "    def select_video(self):\n",
    "        file_dialog = QFileDialog()\n",
    "        file_dialog.setNameFilter(\"Video Files (*.mp4 *.avi *.mkv)\")\n",
    "        file_dialog.setFileMode(QFileDialog.ExistingFile)\n",
    "        if file_dialog.exec_():\n",
    "            file_paths = file_dialog.selectedFiles()\n",
    "            if file_paths:\n",
    "                video_path = file_paths[0]\n",
    "                self.extract_audio(video_path)\n",
    "\n",
    "    def extract_audio(self, video_path):\n",
    "        video_clip = VideoFileClip(video_path)\n",
    "        audio_clip = video_clip.audio\n",
    "        audio_clip.write_audiofile(\"output_audio.mp3\")\n",
    "        audio_clip.close()\n",
    "        video_clip.close()\n",
    "        print(\"Audio extracted successfully!\")\n",
    "\n",
    "if __name__ == \"__main__\":\n",
    "    app = QApplication(sys.argv)\n",
    "    window = MainWindow()\n",
    "    window.setGeometry(100, 100, 300, 150)\n",
    "    window.show()\n",
    "    sys.exit(app.exec_())\n"
   ]
  },
  {
   "cell_type": "code",
   "execution_count": 1,
   "id": "1c8e1c3e",
   "metadata": {},
   "outputs": [
    {
     "name": "stdout",
     "output_type": "stream",
     "text": [
      "MoviePy - Writing audio in output_audio.mp3\n"
     ]
    },
    {
     "name": "stderr",
     "output_type": "stream",
     "text": [
      "                                                                    "
     ]
    },
    {
     "name": "stdout",
     "output_type": "stream",
     "text": [
      "MoviePy - Done.\n",
      "Audio extracted successfully!\n"
     ]
    },
    {
     "name": "stderr",
     "output_type": "stream",
     "text": [
      "\r"
     ]
    },
    {
     "ename": "SystemExit",
     "evalue": "0",
     "output_type": "error",
     "traceback": [
      "An exception has occurred, use %tb to see the full traceback.\n",
      "\u001b[1;31mSystemExit\u001b[0m\u001b[1;31m:\u001b[0m 0\n"
     ]
    }
   ],
   "source": [
    "import sys\n",
    "from PyQt5.QtWidgets import QApplication, QMainWindow, QPushButton, QFileDialog\n",
    "from moviepy.editor import VideoFileClip\n",
    "\n",
    "class MainWindow(QMainWindow):\n",
    "    def __init__(self):\n",
    "        super().__init__()\n",
    "\n",
    "        self.setWindowTitle(\"Video to Audio Converter\")\n",
    "\n",
    "        self.button = QPushButton(\"Select Video\", self)\n",
    "        self.button.setGeometry(50, 50, 200, 50)\n",
    "        self.button.clicked.connect(self.select_video)\n",
    "\n",
    "    def select_video(self):\n",
    "        file_dialog = QFileDialog()\n",
    "        file_dialog.setNameFilter(\"Video Files (*.mp4 *.avi *.mkv)\")\n",
    "        file_dialog.setFileMode(QFileDialog.ExistingFile)\n",
    "        if file_dialog.exec_():\n",
    "            file_paths = file_dialog.selectedFiles()\n",
    "            if file_paths:\n",
    "                video_path = file_paths[0]\n",
    "                self.extract_audio(video_path)\n",
    "\n",
    "    def extract_audio(self, video_path):\n",
    "        video_clip = VideoFileClip(video_path)\n",
    "        audio_clip = video_clip.audio\n",
    "        audio_clip.write_audiofile(\"output_audio.mp3\", codec='mp3')  # Specify the output audio codec explicitly\n",
    "        audio_clip.close()\n",
    "        video_clip.close()\n",
    "        print(\"Audio extracted successfully!\")\n",
    "        QApplication.instance().quit()  # Close the QApplication\n",
    "\n",
    "if __name__ == \"__main__\":\n",
    "    app = QApplication(sys.argv)\n",
    "    window = MainWindow()\n",
    "    window.setGeometry(100, 100, 300, 150)\n",
    "    window.show()\n",
    "    sys.exit(app.exec_())\n"
   ]
  },
  {
   "cell_type": "code",
   "execution_count": 2,
   "id": "9e37fee9",
   "metadata": {},
   "outputs": [
    {
     "ename": "SystemExit",
     "evalue": "0",
     "output_type": "error",
     "traceback": [
      "\u001b[1;31m---------------------------------------------------------------------------\u001b[0m",
      "\u001b[1;31mSystemExit\u001b[0m                                Traceback (most recent call last)",
      "Cell \u001b[1;32mIn[1], line 39\u001b[0m\n\u001b[0;32m     37\u001b[0m window\u001b[38;5;241m.\u001b[39msetGeometry(\u001b[38;5;241m100\u001b[39m, \u001b[38;5;241m100\u001b[39m, \u001b[38;5;241m300\u001b[39m, \u001b[38;5;241m150\u001b[39m)\n\u001b[0;32m     38\u001b[0m window\u001b[38;5;241m.\u001b[39mshow()\n\u001b[1;32m---> 39\u001b[0m sys\u001b[38;5;241m.\u001b[39mexit(app\u001b[38;5;241m.\u001b[39mexec_())\n",
      "\u001b[1;31mSystemExit\u001b[0m: 0"
     ]
    }
   ],
   "source": [
    "%tb"
   ]
  },
  {
   "cell_type": "code",
   "execution_count": 1,
   "id": "e033bf0e",
   "metadata": {},
   "outputs": [
    {
     "name": "stdout",
     "output_type": "stream",
     "text": [
      "MoviePy - Writing audio in output_audio.mp3\n"
     ]
    },
    {
     "name": "stderr",
     "output_type": "stream",
     "text": [
      "                                                                    "
     ]
    },
    {
     "name": "stdout",
     "output_type": "stream",
     "text": [
      "MoviePy - Done.\n",
      "Audio extracted successfully!\n"
     ]
    },
    {
     "name": "stderr",
     "output_type": "stream",
     "text": [
      "\r"
     ]
    },
    {
     "ename": "SystemExit",
     "evalue": "0",
     "output_type": "error",
     "traceback": [
      "An exception has occurred, use %tb to see the full traceback.\n",
      "\u001b[1;31mSystemExit\u001b[0m\u001b[1;31m:\u001b[0m 0\n"
     ]
    }
   ],
   "source": [
    "import sys\n",
    "from PyQt5.QtWidgets import QApplication, QMainWindow, QPushButton, QFileDialog\n",
    "from moviepy.editor import VideoFileClip\n",
    "\n",
    "class MainWindow(QMainWindow):\n",
    "    def __init__(self):\n",
    "        super().__init__()\n",
    "\n",
    "        self.setWindowTitle(\"Video to Audio Converter\")\n",
    "\n",
    "        self.button = QPushButton(\"Select Video\", self)\n",
    "        self.button.setGeometry(50, 50, 200, 50)\n",
    "        self.button.clicked.connect(self.select_video)\n",
    "\n",
    "    def select_video(self):\n",
    "        file_dialog = QFileDialog()\n",
    "        file_dialog.setNameFilter(\"Video Files (*.mp4 *.avi *.mkv)\")\n",
    "        file_dialog.setFileMode(QFileDialog.ExistingFile)\n",
    "        if file_dialog.exec_():\n",
    "            file_paths = file_dialog.selectedFiles()\n",
    "            if file_paths:\n",
    "                video_path = file_paths[0]\n",
    "                self.extract_audio(video_path)\n",
    "\n",
    "    def extract_audio(self, video_path):\n",
    "        video_clip = VideoFileClip(video_path)\n",
    "        audio_clip = video_clip.audio\n",
    "        audio_clip.write_audiofile(\"output_audio.mp3\", codec='mp3')  # Specify the output audio codec explicitly\n",
    "        audio_clip.close()\n",
    "        video_clip.close()\n",
    "        print(\"Audio extracted successfully!\")\n",
    "        QApplication.instance().quit()  # Close the QApplication\n",
    "\n",
    "if __name__ == \"__main__\":\n",
    "    app = QApplication(sys.argv)\n",
    "    window = MainWindow()\n",
    "    window.setGeometry(100, 100, 300, 150)\n",
    "    window.show()\n",
    "    try:\n",
    "        app.quit()  # Ensure QApplication is properly cleaned up before exit\n",
    "        sys.exit(app.exec_())\n",
    "    except Exception as e:\n",
    "        print(\"An error occurred:\", e)\n",
    "\n"
   ]
  },
  {
   "cell_type": "code",
   "execution_count": 2,
   "id": "38558ab0",
   "metadata": {},
   "outputs": [
    {
     "ename": "SystemExit",
     "evalue": "0",
     "output_type": "error",
     "traceback": [
      "\u001b[1;31m---------------------------------------------------------------------------\u001b[0m",
      "\u001b[1;31mSystemExit\u001b[0m                                Traceback (most recent call last)",
      "Cell \u001b[1;32mIn[1], line 41\u001b[0m\n\u001b[0;32m     39\u001b[0m \u001b[38;5;28;01mtry\u001b[39;00m:\n\u001b[0;32m     40\u001b[0m     app\u001b[38;5;241m.\u001b[39mquit()  \u001b[38;5;66;03m# Ensure QApplication is properly cleaned up before exit\u001b[39;00m\n\u001b[1;32m---> 41\u001b[0m     sys\u001b[38;5;241m.\u001b[39mexit(app\u001b[38;5;241m.\u001b[39mexec_())\n\u001b[0;32m     42\u001b[0m \u001b[38;5;28;01mexcept\u001b[39;00m \u001b[38;5;167;01mException\u001b[39;00m \u001b[38;5;28;01mas\u001b[39;00m e:\n\u001b[0;32m     43\u001b[0m     \u001b[38;5;28mprint\u001b[39m(\u001b[38;5;124m\"\u001b[39m\u001b[38;5;124mAn error occurred:\u001b[39m\u001b[38;5;124m\"\u001b[39m, e)\n",
      "\u001b[1;31mSystemExit\u001b[0m: 0"
     ]
    }
   ],
   "source": [
    "%tb"
   ]
  },
  {
   "cell_type": "code",
   "execution_count": 1,
   "id": "74bf062e",
   "metadata": {},
   "outputs": [
    {
     "name": "stderr",
     "output_type": "stream",
     "text": [
      "[WARNING] [Config      ] Older configuration version detected (0 instead of 27)\n",
      "[WARNING] [Config      ] Upgrading configuration in progress.\n",
      "[DEBUG  ] [Config      ] Upgrading from 0 to 1\n",
      "[INFO   ] [Logger      ] Record log in C:\\Users\\tehre\\.kivy\\logs\\kivy_24-02-05_0.txt\n",
      "[INFO   ] [deps        ] Successfully imported \"kivy_deps.angle\" 0.4.0\n",
      "[INFO   ] [deps        ] Successfully imported \"kivy_deps.glew\" 0.3.1\n",
      "[INFO   ] [deps        ] Successfully imported \"kivy_deps.sdl2\" 0.7.0\n",
      "[INFO   ] [Kivy        ] v2.3.0\n",
      "[INFO   ] [Kivy        ] Installed at \"C:\\Users\\tehre\\anaconda3\\Lib\\site-packages\\kivy\\__init__.py\"\n",
      "[INFO   ] [Python      ] v3.11.5 | packaged by Anaconda, Inc. | (main, Sep 11 2023, 13:26:23) [MSC v.1916 64 bit (AMD64)]\n",
      "[INFO   ] [Python      ] Interpreter at \"C:\\Users\\tehre\\anaconda3\\python.exe\"\n",
      "[INFO   ] [Logger      ] Purge log fired. Processing...\n",
      "[INFO   ] [Logger      ] Purge finished!\n",
      "[INFO   ] [Factory     ] 195 symbols loaded\n",
      "[INFO   ] [Image       ] Providers: img_tex, img_dds, img_sdl2, img_pil (img_ffpyplayer ignored)\n",
      "[INFO   ] [Text        ] Provider: sdl2\n",
      "[DEBUG  ] [matplotlib data path] C:\\Users\\tehre\\anaconda3\\Lib\\site-packages\\matplotlib\\mpl-data\n",
      "[DEBUG  ] CONFIGDIR=C:\\Users\\tehre\\.matplotlib\n",
      "[DEBUG  ] interactive is False\n",
      "[DEBUG  ] platform is win32\n",
      "[DEBUG  ] CACHEDIR=C:\\Users\\tehre\\.matplotlib\n",
      "[DEBUG  ] Using fontManager instance from C:\\Users\\tehre\\.matplotlib\\fontlist-v330.json\n"
     ]
    },
    {
     "ename": "OSError",
     "evalue": "source code not available",
     "output_type": "error",
     "traceback": [
      "\u001b[1;31m---------------------------------------------------------------------------\u001b[0m",
      "\u001b[1;31mOSError\u001b[0m                                   Traceback (most recent call last)",
      "Cell \u001b[1;32mIn[1], line 34\u001b[0m\n\u001b[0;32m     31\u001b[0m             \u001b[38;5;28mprint\u001b[39m(\u001b[38;5;124m\"\u001b[39m\u001b[38;5;124mNo video selected!\u001b[39m\u001b[38;5;124m\"\u001b[39m)\n\u001b[0;32m     33\u001b[0m \u001b[38;5;28;01mif\u001b[39;00m \u001b[38;5;18m__name__\u001b[39m \u001b[38;5;241m==\u001b[39m \u001b[38;5;124m\"\u001b[39m\u001b[38;5;124m__main__\u001b[39m\u001b[38;5;124m\"\u001b[39m:\n\u001b[1;32m---> 34\u001b[0m     VideoToAudioApp()\u001b[38;5;241m.\u001b[39mrun()\n",
      "File \u001b[1;32m~\\anaconda3\\Lib\\site-packages\\kivy\\app.py:955\u001b[0m, in \u001b[0;36mApp.run\u001b[1;34m(self)\u001b[0m\n\u001b[0;32m    952\u001b[0m \u001b[38;5;28;01mdef\u001b[39;00m \u001b[38;5;21mrun\u001b[39m(\u001b[38;5;28mself\u001b[39m):\n\u001b[0;32m    953\u001b[0m \u001b[38;5;250m    \u001b[39m\u001b[38;5;124;03m'''Launches the app in standalone mode.\u001b[39;00m\n\u001b[0;32m    954\u001b[0m \u001b[38;5;124;03m    '''\u001b[39;00m\n\u001b[1;32m--> 955\u001b[0m     \u001b[38;5;28mself\u001b[39m\u001b[38;5;241m.\u001b[39m_run_prepare()\n\u001b[0;32m    956\u001b[0m     runTouchApp()\n\u001b[0;32m    957\u001b[0m     \u001b[38;5;28mself\u001b[39m\u001b[38;5;241m.\u001b[39m_stop()\n",
      "File \u001b[1;32m~\\anaconda3\\Lib\\site-packages\\kivy\\app.py:924\u001b[0m, in \u001b[0;36mApp._run_prepare\u001b[1;34m(self)\u001b[0m\n\u001b[0;32m    922\u001b[0m \u001b[38;5;28;01mif\u001b[39;00m \u001b[38;5;129;01mnot\u001b[39;00m \u001b[38;5;28mself\u001b[39m\u001b[38;5;241m.\u001b[39mbuilt:\n\u001b[0;32m    923\u001b[0m     \u001b[38;5;28mself\u001b[39m\u001b[38;5;241m.\u001b[39mload_config()\n\u001b[1;32m--> 924\u001b[0m     \u001b[38;5;28mself\u001b[39m\u001b[38;5;241m.\u001b[39mload_kv(filename\u001b[38;5;241m=\u001b[39m\u001b[38;5;28mself\u001b[39m\u001b[38;5;241m.\u001b[39mkv_file)\n\u001b[0;32m    925\u001b[0m     root \u001b[38;5;241m=\u001b[39m \u001b[38;5;28mself\u001b[39m\u001b[38;5;241m.\u001b[39mbuild()\n\u001b[0;32m    926\u001b[0m     \u001b[38;5;28;01mif\u001b[39;00m root:\n",
      "File \u001b[1;32m~\\anaconda3\\Lib\\site-packages\\kivy\\app.py:677\u001b[0m, in \u001b[0;36mApp.load_kv\u001b[1;34m(self, filename)\u001b[0m\n\u001b[0;32m    675\u001b[0m \u001b[38;5;28;01melse\u001b[39;00m:\n\u001b[0;32m    676\u001b[0m     \u001b[38;5;28;01mtry\u001b[39;00m:\n\u001b[1;32m--> 677\u001b[0m         default_kv_directory \u001b[38;5;241m=\u001b[39m dirname(getfile(\u001b[38;5;28mself\u001b[39m\u001b[38;5;241m.\u001b[39m\u001b[38;5;18m__class__\u001b[39m))\n\u001b[0;32m    678\u001b[0m         \u001b[38;5;28;01mif\u001b[39;00m default_kv_directory \u001b[38;5;241m==\u001b[39m \u001b[38;5;124m'\u001b[39m\u001b[38;5;124m'\u001b[39m:\n\u001b[0;32m    679\u001b[0m             default_kv_directory \u001b[38;5;241m=\u001b[39m \u001b[38;5;124m'\u001b[39m\u001b[38;5;124m.\u001b[39m\u001b[38;5;124m'\u001b[39m\n",
      "File \u001b[1;32m~\\anaconda3\\Lib\\inspect.py:908\u001b[0m, in \u001b[0;36mgetfile\u001b[1;34m(object)\u001b[0m\n\u001b[0;32m    906\u001b[0m             \u001b[38;5;28;01mreturn\u001b[39;00m module\u001b[38;5;241m.\u001b[39m\u001b[38;5;18m__file__\u001b[39m\n\u001b[0;32m    907\u001b[0m         \u001b[38;5;28;01mif\u001b[39;00m \u001b[38;5;28mobject\u001b[39m\u001b[38;5;241m.\u001b[39m\u001b[38;5;18m__module__\u001b[39m \u001b[38;5;241m==\u001b[39m \u001b[38;5;124m'\u001b[39m\u001b[38;5;124m__main__\u001b[39m\u001b[38;5;124m'\u001b[39m:\n\u001b[1;32m--> 908\u001b[0m             \u001b[38;5;28;01mraise\u001b[39;00m \u001b[38;5;167;01mOSError\u001b[39;00m(\u001b[38;5;124m'\u001b[39m\u001b[38;5;124msource code not available\u001b[39m\u001b[38;5;124m'\u001b[39m)\n\u001b[0;32m    909\u001b[0m     \u001b[38;5;28;01mraise\u001b[39;00m \u001b[38;5;167;01mTypeError\u001b[39;00m(\u001b[38;5;124m'\u001b[39m\u001b[38;5;132;01m{!r}\u001b[39;00m\u001b[38;5;124m is a built-in class\u001b[39m\u001b[38;5;124m'\u001b[39m\u001b[38;5;241m.\u001b[39mformat(\u001b[38;5;28mobject\u001b[39m))\n\u001b[0;32m    910\u001b[0m \u001b[38;5;28;01mif\u001b[39;00m ismethod(\u001b[38;5;28mobject\u001b[39m):\n",
      "\u001b[1;31mOSError\u001b[0m: source code not available"
     ]
    }
   ],
   "source": [
    "import kivy\n",
    "from kivy.app import App\n",
    "from kivy.uix.button import Button\n",
    "from kivy.uix.filechooser import FileChooserListView\n",
    "from kivy.uix.gridlayout import GridLayout\n",
    "from moviepy.editor import VideoFileClip\n",
    "\n",
    "class VideoToAudioApp(App):\n",
    "    def build(self):\n",
    "        self.layout = GridLayout(cols=1)\n",
    "\n",
    "        self.file_chooser = FileChooserListView()\n",
    "        self.layout.add_widget(self.file_chooser)\n",
    "\n",
    "        self.extract_button = Button(text=\"Extract Audio\")\n",
    "        self.extract_button.bind(on_press=self.extract_audio)\n",
    "        self.layout.add_widget(self.extract_button)\n",
    "\n",
    "        return self.layout\n",
    "\n",
    "    def extract_audio(self, instance):\n",
    "        video_path = self.file_chooser.selection[0]\n",
    "        if video_path:\n",
    "            video_clip = VideoFileClip(video_path)\n",
    "            audio_clip = video_clip.audio\n",
    "            audio_clip.write_audiofile(\"output_audio.mp3\", codec='mp3')  # Specify the output audio codec explicitly\n",
    "            audio_clip.close()\n",
    "            video_clip.close()\n",
    "            print(\"Audio extracted successfully!\")\n",
    "        else:\n",
    "            print(\"No video selected!\")\n",
    "\n",
    "if __name__ == \"__main__\":\n",
    "    VideoToAudioApp().run()\n"
   ]
  },
  {
   "cell_type": "code",
   "execution_count": 12,
   "id": "86c36870",
   "metadata": {},
   "outputs": [
    {
     "name": "stdout",
     "output_type": "stream",
     "text": [
      "MoviePy - Writing audio in outputaudio.mp3\n"
     ]
    },
    {
     "name": "stderr",
     "output_type": "stream",
     "text": [
      "                                                                    \r"
     ]
    },
    {
     "name": "stdout",
     "output_type": "stream",
     "text": [
      "MoviePy - Done.\n",
      "Audio extracted successfully!\n"
     ]
    }
   ],
   "source": [
    "import tkinter as tk\n",
    "from tkinter import filedialog\n",
    "from moviepy.editor import VideoFileClip\n",
    "\n",
    "def open_file():\n",
    "    file_path = filedialog.askopenfilename()\n",
    "    if file_path:\n",
    "        extract_audio(file_path)\n",
    "\n",
    "def extract_audio(video_path):\n",
    "    video_clip = VideoFileClip(video_path)\n",
    "    audio_clip = video_clip.audio\n",
    "    audio_clip.write_audiofile(\"outputaudio.mp3\", codec='mp3')  # Specify the output audio codec explicitly\n",
    "    audio_clip.close()\n",
    "    video_clip.close()\n",
    "    print(\"Audio extracted successfully!\")\n",
    "\n",
    "# Create the Tkinter application window\n",
    "root = tk.Tk()\n",
    "root.title(\"Video to Audio Converter\")\n",
    "\n",
    "# Create a button to open the file dialog\n",
    "open_button = tk.Button(root, text=\"Open Video\", command=open_file)\n",
    "open_button.pack()\n",
    "\n",
    "# Run the Tkinter event loop\n",
    "root.mainloop()\n"
   ]
  },
  {
   "cell_type": "code",
   "execution_count": 9,
   "id": "99b15770",
   "metadata": {},
   "outputs": [
    {
     "name": "stdout",
     "output_type": "stream",
     "text": [
      "D:\\Tehreem's Data\\Movies\\Whatsapp\\VID-20220921-WA0000.mp4\n"
     ]
    },
    {
     "name": "stderr",
     "output_type": "stream",
     "text": [
      "Exception in Tkinter callback\n",
      "Traceback (most recent call last):\n",
      "  File \"C:\\Users\\tehre\\anaconda3\\Lib\\tkinter\\__init__.py\", line 1948, in __call__\n",
      "    return self.func(*args)\n",
      "           ^^^^^^^^^^^^^^^^\n",
      "  File \"C:\\Users\\tehre\\AppData\\Local\\Temp\\ipykernel_8616\\2196437068.py\", line 38, in convert_command\n",
      "    video = AudioSegment.from_file(file_path)\n",
      "            ^^^^^^^^^^^^^^^^^^^^^^^^^^^^^^^^^\n",
      "  File \"C:\\Users\\tehre\\anaconda3\\Lib\\site-packages\\pydub\\audio_segment.py\", line 728, in from_file\n",
      "    info = mediainfo_json(orig_file, read_ahead_limit=read_ahead_limit)\n",
      "           ^^^^^^^^^^^^^^^^^^^^^^^^^^^^^^^^^^^^^^^^^^^^^^^^^^^^^^^^^^^^\n",
      "  File \"C:\\Users\\tehre\\anaconda3\\Lib\\site-packages\\pydub\\utils.py\", line 274, in mediainfo_json\n",
      "    res = Popen(command, stdin=stdin_parameter, stdout=PIPE, stderr=PIPE)\n",
      "          ^^^^^^^^^^^^^^^^^^^^^^^^^^^^^^^^^^^^^^^^^^^^^^^^^^^^^^^^^^^^^^^\n",
      "  File \"C:\\Users\\tehre\\anaconda3\\Lib\\subprocess.py\", line 1026, in __init__\n",
      "    self._execute_child(args, executable, preexec_fn, close_fds,\n",
      "  File \"C:\\Users\\tehre\\anaconda3\\Lib\\subprocess.py\", line 1538, in _execute_child\n",
      "    hp, ht, pid, tid = _winapi.CreateProcess(executable, args,\n",
      "                       ^^^^^^^^^^^^^^^^^^^^^^^^^^^^^^^^^^^^^^^\n",
      "FileNotFoundError: [WinError 2] The system cannot find the file specified\n"
     ]
    }
   ],
   "source": [
    "# Importing the required libraries\n",
    "import tkinter as tk\n",
    "from tkinter import filedialog\n",
    "from pydub import AudioSegment\n",
    "from tkinter import messagebox\n",
    "\n",
    "# Creating main window\n",
    "root = tk.Tk()\n",
    "\n",
    "\n",
    "# Setting the title, background color and size of the tkinter window and resizing property\n",
    "root.title(\"TechVidvan - Video to Audio Converter\")\n",
    "root.geometry(\"600x310\")\n",
    "root.resizable(width=False, height=False)\n",
    "root.configure(background=\"#3b4370\")\n",
    "\n",
    "# function to browse input file\n",
    "def browse_input_command():\n",
    "    global file_path\n",
    "#     file_path = filedialog.askopenfilename(initialdir=\"/\", title=\"Select file\", filetypes=((\"mp3 files\", \"*.mp4\"), (\"all files\", \"*.*\")))\n",
    "    file_path = \"D:\\Tehreem's Data\\Movies\\Whatsapp\\VID-20220921-WA0000.mp4\"\n",
    "    print(file_path)\n",
    "   # display file path in label\n",
    "    input_file_path_label.config(text=file_path)\n",
    "    \n",
    "# function to browse output file\n",
    "def browse_output_command():\n",
    "    global output_path\n",
    "#     output_path = filedialog.asksaveasfilename(initialdir=\"/\", title=\"Save file as\", filetypes=((\"mp3 files\", \"*.mp3\"), (\"all files\", \"*.*\")))\n",
    "    output_path = \"D:\\Tehreem's Data\\Movies\\Whatsapp\\converted.mp3\"\n",
    "   # display file path in label\n",
    "    output_file_path_label.config(text=output_path)\n",
    "    \n",
    "def convert_command():\n",
    "\n",
    "\n",
    "   # convert video to audio\n",
    "    video = AudioSegment.from_file(file_path)\n",
    "\n",
    "\n",
    "   # save audio file\n",
    "    video.export(output_path, format=\"mp3\")\n",
    "\n",
    "\n",
    "   # show success message\n",
    "    messagebox.showinfo(\"Success\", \"Video converted to Audio successfully\")\n",
    "    \n",
    "# Create a label to display the title\n",
    "title_label=tk.Label(root)\n",
    "title_label.configure(background=\"#90f090\", foreground=\"#333333\", font=\"Arial 18 bold\", justify=\"center\", text=\"TechVidvan - Video to Audio Converter\")\n",
    "title_label.place(x=0,y=0,width=600,height=50)\n",
    "\n",
    "\n",
    "# Create a button to browse input file\n",
    "browse_input_button=tk.Button(root)\n",
    "browse_input_button.configure(font=\"Arial 14\", justify=\"center\", text=\"Browse Input\", command=browse_input_command)\n",
    "browse_input_button.place(x=30,y=80,width=160,height=40)\n",
    "\n",
    "\n",
    "# Create a label to display file path\n",
    "input_file_path_label=tk.Label(root)\n",
    "input_file_path_label.configure(background=\"#3b4370\", foreground=\"#ffffc5\", font=\"Arial 14\", justify=\"center\", text=\"File Path\")\n",
    "input_file_path_label.place(x=220,y=80,width=360,height=40)\n",
    "\n",
    "\n",
    "# Create a button to browse output file\n",
    "browse_output_button=tk.Button(root)\n",
    "browse_output_button.configure(font=\"Arial 14\", justify=\"center\", text=\"Output Path \", command=browse_output_command)\n",
    "browse_output_button.place(x=30,y=150,width=160,height=40)\n",
    "\n",
    "\n",
    "# Create a label to display file path\n",
    "output_file_path_label=tk.Label(root)\n",
    "output_file_path_label.configure(background=\"#3b4370\", foreground=\"#ffffc5\", font=\"Arial 14\", justify=\"center\", text=\"File Path\")\n",
    "output_file_path_label.place(x=220,y=150,width=360,height=40)\n",
    "\n",
    "\n",
    "# Create a button to convert video to audio\n",
    "convert_button=tk.Button(root)\n",
    "convert_button.configure(font=\"Arial 14\", justify=\"center\", text=\"Convert\", command=convert_command)\n",
    "convert_button.place(x=220,y=240,width=160,height=40)\n",
    "\n",
    "# Run the main window loop\n",
    "root.mainloop()"
   ]
  },
  {
   "cell_type": "code",
   "execution_count": 4,
   "id": "eaaa55d2",
   "metadata": {},
   "outputs": [
    {
     "name": "stdout",
     "output_type": "stream",
     "text": [
      "Collecting pydub\n",
      "  Downloading pydub-0.25.1-py2.py3-none-any.whl (32 kB)\n",
      "Installing collected packages: pydub\n",
      "Successfully installed pydub-0.25.1\n"
     ]
    }
   ],
   "source": [
    "!pip install pydub"
   ]
  },
  {
   "cell_type": "code",
   "execution_count": 26,
   "id": "c52292f1",
   "metadata": {},
   "outputs": [
    {
     "name": "stdout",
     "output_type": "stream",
     "text": [
      "MoviePy - Writing audio in D:\\Tehreem's Data\\Movies\\Whatsapp\\outputaudio.mp3\n"
     ]
    },
    {
     "name": "stderr",
     "output_type": "stream",
     "text": [
      "                                                                   \r"
     ]
    },
    {
     "name": "stdout",
     "output_type": "stream",
     "text": [
      "MoviePy - Done.\n",
      "Audio extracted successfully!\n"
     ]
    }
   ],
   "source": [
    "import tkinter as tk\n",
    "from tkinter import filedialog\n",
    "from moviepy.editor import VideoFileClip\n",
    "\n",
    "def open_file():\n",
    "    file_path = filedialog.askopenfilename()\n",
    "    if file_path:\n",
    "        extract_audio(file_path)\n",
    "\n",
    "def extract_audio(video_path):\n",
    "    video_clip = VideoFileClip(video_path)\n",
    "    audio_clip = video_clip.audio\n",
    "    audio_clip.write_audiofile(\"outputaudio.mp3\", codec='mp3')  # Specify the output audio codec explicitly\n",
    "    audio_clip.close()\n",
    "    video_clip.close()\n",
    "    print(\"Audio extracted successfully!\")\n",
    "\n",
    "root = tk.Tk()\n",
    "root.title(\"Video to Audio Converter\")\n",
    "\n",
    "open_button = tk.Button(root, text=\"Open Video\", command=open_file)\n",
    "open_button.pack()\n",
    "\n",
    "root.mainloop()\n"
   ]
  },
  {
   "cell_type": "code",
   "execution_count": null,
   "id": "b5332d29",
   "metadata": {},
   "outputs": [],
   "source": [
    "import speech_recognition as sr\n",
    "from pydub import AudioSegment\n",
    "\n",
    "def convert_mp3_to_wav(mp3_path, wav_path):\n",
    "    audio = AudioSegment.from_mp3(mp3_path)\n",
    "    audio.export(wav_path, format=\"wav\")\n",
    "\n",
    "def audio_to_text(audio_file_path):\n",
    "    r = sr.Recognizer()\n",
    "    with sr.AudioFile(audio_file_path) as source:\n",
    "        audio_data = r.record(source)\n",
    "        text = r.recognize_google(audio_data)\n",
    "        return text\n",
    "\n",
    "# mp3 to wav\n",
    "convert_mp3_to_wav(\"outputaudio.mp3\", \"audio.wav\")\n",
    "\n",
    "# audio to text\n",
    "print(audio_to_text(\"audio.wav\"))\n"
   ]
  },
  {
   "cell_type": "code",
   "execution_count": 3,
   "id": "31b1a0ea",
   "metadata": {},
   "outputs": [
    {
     "name": "stdout",
     "output_type": "stream",
     "text": [
      "MoviePy - Writing audio in audio.wav\n"
     ]
    },
    {
     "name": "stderr",
     "output_type": "stream",
     "text": [
      "                                                                      \r"
     ]
    },
    {
     "name": "stdout",
     "output_type": "stream",
     "text": [
      "MoviePy - Done.\n",
      "Transcribed text:\n",
      "can you say why America is the greatest country in the world diversity and opportunity freedom and freedom in the world\n",
      "Done\n"
     ]
    }
   ],
   "source": [
    "import moviepy.editor as mp\n",
    "import speech_recognition as sr\n",
    "\n",
    "# Step 1: Extract audio from the video\n",
    "def extract_audio(video_path):\n",
    "    video = mp.VideoFileClip(video_path)\n",
    "    audio = video.audio\n",
    "    audio.write_audiofile(\"audio.wav\")\n",
    "    return \"audio.wav\"\n",
    "\n",
    "# Step 2: Transcribe audio to text\n",
    "def transcribe_audio(audio_path):\n",
    "    recognizer = sr.Recognizer()\n",
    "    audio_file = sr.AudioFile(audio_path)\n",
    "    \n",
    "    with audio_file as source:\n",
    "        audio_data = recognizer.record(source)\n",
    "    \n",
    "    try:\n",
    "        text = recognizer.recognize_google(audio_data)\n",
    "        return text\n",
    "    except sr.UnknownValueError:\n",
    "        return \"Could not understand audio\"\n",
    "    except sr.RequestError as e:\n",
    "        return \"Error occurred: {0}\".format(e)\n",
    "\n",
    "# Specify the path to the video file\n",
    "video_path = \"vid1.mp4\"\n",
    "\n",
    "# Step 1: Extract audio from the video\n",
    "audio_path = extract_audio(video_path)\n",
    "\n",
    "# Step 2: Transcribe audio to text\n",
    "transcribed_text = transcribe_audio(audio_path)\n",
    "\n",
    "print(\"Transcribed text:\")\n",
    "print(transcribed_text)\n",
    "print(\"Done\")"
   ]
  },
  {
   "cell_type": "code",
   "execution_count": null,
   "id": "24bf297c",
   "metadata": {},
   "outputs": [
    {
     "name": "stderr",
     "output_type": "stream",
     "text": [
      "Exception in Tkinter callback\n",
      "Traceback (most recent call last):\n",
      "  File \"C:\\Users\\tehre\\anaconda3\\Lib\\site-packages\\speech_recognition\\__init__.py\", line 241, in __enter__\n",
      "    self.audio_reader = wave.open(self.filename_or_fileobject, \"rb\")\n",
      "                        ^^^^^^^^^^^^^^^^^^^^^^^^^^^^^^^^^^^^^^^^^^^^\n",
      "  File \"C:\\Users\\tehre\\anaconda3\\Lib\\wave.py\", line 631, in open\n",
      "    return Wave_read(f)\n",
      "           ^^^^^^^^^^^^\n",
      "  File \"C:\\Users\\tehre\\anaconda3\\Lib\\wave.py\", line 283, in __init__\n",
      "    self.initfp(f)\n",
      "  File \"C:\\Users\\tehre\\anaconda3\\Lib\\wave.py\", line 250, in initfp\n",
      "    raise Error('file does not start with RIFF id')\n",
      "wave.Error: file does not start with RIFF id\n",
      "\n",
      "During handling of the above exception, another exception occurred:\n",
      "\n",
      "Traceback (most recent call last):\n",
      "  File \"C:\\Users\\tehre\\anaconda3\\Lib\\site-packages\\speech_recognition\\__init__.py\", line 246, in __enter__\n",
      "    self.audio_reader = aifc.open(self.filename_or_fileobject, \"rb\")\n",
      "                        ^^^^^^^^^^^^^^^^^^^^^^^^^^^^^^^^^^^^^^^^^^^^\n",
      "  File \"C:\\Users\\tehre\\anaconda3\\Lib\\aifc.py\", line 954, in open\n",
      "    return Aifc_read(f)\n",
      "           ^^^^^^^^^^^^\n",
      "  File \"C:\\Users\\tehre\\anaconda3\\Lib\\aifc.py\", line 358, in __init__\n",
      "    self.initfp(file_object)\n",
      "  File \"C:\\Users\\tehre\\anaconda3\\Lib\\aifc.py\", line 322, in initfp\n",
      "    raise Error('file does not start with FORM id')\n",
      "aifc.Error: file does not start with FORM id\n",
      "\n",
      "During handling of the above exception, another exception occurred:\n",
      "\n",
      "Traceback (most recent call last):\n",
      "  File \"C:\\Users\\tehre\\anaconda3\\Lib\\site-packages\\speech_recognition\\__init__.py\", line 272, in __enter__\n",
      "    self.audio_reader = aifc.open(aiff_file, \"rb\")\n",
      "                        ^^^^^^^^^^^^^^^^^^^^^^^^^^\n",
      "  File \"C:\\Users\\tehre\\anaconda3\\Lib\\aifc.py\", line 954, in open\n",
      "    return Aifc_read(f)\n",
      "           ^^^^^^^^^^^^\n",
      "  File \"C:\\Users\\tehre\\anaconda3\\Lib\\aifc.py\", line 364, in __init__\n",
      "    self.initfp(f)\n",
      "  File \"C:\\Users\\tehre\\anaconda3\\Lib\\aifc.py\", line 320, in initfp\n",
      "    chunk = Chunk(file)\n",
      "            ^^^^^^^^^^^\n",
      "  File \"C:\\Users\\tehre\\anaconda3\\Lib\\chunk.py\", line 67, in __init__\n",
      "    raise EOFError\n",
      "EOFError\n",
      "\n",
      "During handling of the above exception, another exception occurred:\n",
      "\n",
      "Traceback (most recent call last):\n",
      "  File \"C:\\Users\\tehre\\anaconda3\\Lib\\tkinter\\__init__.py\", line 1948, in __call__\n",
      "    return self.func(*args)\n",
      "           ^^^^^^^^^^^^^^^^\n",
      "  File \"C:\\Users\\tehre\\AppData\\Local\\Temp\\ipykernel_4816\\3282521303.py\", line 26, in search_dialogue\n",
      "    text = self.convert_audio_to_text(video_file)\n",
      "           ^^^^^^^^^^^^^^^^^^^^^^^^^^^^^^^^^^^^^^\n",
      "  File \"C:\\Users\\tehre\\AppData\\Local\\Temp\\ipykernel_4816\\3282521303.py\", line 38, in convert_audio_to_text\n",
      "    with audio_file as source:\n",
      "  File \"C:\\Users\\tehre\\anaconda3\\Lib\\site-packages\\speech_recognition\\__init__.py\", line 274, in __enter__\n",
      "    raise ValueError(\"Audio file could not be read as PCM WAV, AIFF/AIFF-C, or Native FLAC; check if file is corrupted or in another format\")\n",
      "ValueError: Audio file could not be read as PCM WAV, AIFF/AIFF-C, or Native FLAC; check if file is corrupted or in another format\n",
      "Exception in Tkinter callback\n",
      "Traceback (most recent call last):\n",
      "  File \"C:\\Users\\tehre\\anaconda3\\Lib\\site-packages\\speech_recognition\\__init__.py\", line 241, in __enter__\n",
      "    self.audio_reader = wave.open(self.filename_or_fileobject, \"rb\")\n",
      "                        ^^^^^^^^^^^^^^^^^^^^^^^^^^^^^^^^^^^^^^^^^^^^\n",
      "  File \"C:\\Users\\tehre\\anaconda3\\Lib\\wave.py\", line 631, in open\n",
      "    return Wave_read(f)\n",
      "           ^^^^^^^^^^^^\n",
      "  File \"C:\\Users\\tehre\\anaconda3\\Lib\\wave.py\", line 283, in __init__\n",
      "    self.initfp(f)\n",
      "  File \"C:\\Users\\tehre\\anaconda3\\Lib\\wave.py\", line 250, in initfp\n",
      "    raise Error('file does not start with RIFF id')\n",
      "wave.Error: file does not start with RIFF id\n",
      "\n",
      "During handling of the above exception, another exception occurred:\n",
      "\n",
      "Traceback (most recent call last):\n",
      "  File \"C:\\Users\\tehre\\anaconda3\\Lib\\site-packages\\speech_recognition\\__init__.py\", line 246, in __enter__\n",
      "    self.audio_reader = aifc.open(self.filename_or_fileobject, \"rb\")\n",
      "                        ^^^^^^^^^^^^^^^^^^^^^^^^^^^^^^^^^^^^^^^^^^^^\n",
      "  File \"C:\\Users\\tehre\\anaconda3\\Lib\\aifc.py\", line 954, in open\n",
      "    return Aifc_read(f)\n",
      "           ^^^^^^^^^^^^\n",
      "  File \"C:\\Users\\tehre\\anaconda3\\Lib\\aifc.py\", line 358, in __init__\n",
      "    self.initfp(file_object)\n",
      "  File \"C:\\Users\\tehre\\anaconda3\\Lib\\aifc.py\", line 322, in initfp\n",
      "    raise Error('file does not start with FORM id')\n",
      "aifc.Error: file does not start with FORM id\n",
      "\n",
      "During handling of the above exception, another exception occurred:\n",
      "\n",
      "Traceback (most recent call last):\n",
      "  File \"C:\\Users\\tehre\\anaconda3\\Lib\\site-packages\\speech_recognition\\__init__.py\", line 272, in __enter__\n",
      "    self.audio_reader = aifc.open(aiff_file, \"rb\")\n",
      "                        ^^^^^^^^^^^^^^^^^^^^^^^^^^\n",
      "  File \"C:\\Users\\tehre\\anaconda3\\Lib\\aifc.py\", line 954, in open\n",
      "    return Aifc_read(f)\n",
      "           ^^^^^^^^^^^^\n",
      "  File \"C:\\Users\\tehre\\anaconda3\\Lib\\aifc.py\", line 364, in __init__\n",
      "    self.initfp(f)\n",
      "  File \"C:\\Users\\tehre\\anaconda3\\Lib\\aifc.py\", line 320, in initfp\n",
      "    chunk = Chunk(file)\n",
      "            ^^^^^^^^^^^\n",
      "  File \"C:\\Users\\tehre\\anaconda3\\Lib\\chunk.py\", line 67, in __init__\n",
      "    raise EOFError\n",
      "EOFError\n",
      "\n",
      "During handling of the above exception, another exception occurred:\n",
      "\n",
      "Traceback (most recent call last):\n",
      "  File \"C:\\Users\\tehre\\anaconda3\\Lib\\tkinter\\__init__.py\", line 1948, in __call__\n",
      "    return self.func(*args)\n",
      "           ^^^^^^^^^^^^^^^^\n",
      "  File \"C:\\Users\\tehre\\AppData\\Local\\Temp\\ipykernel_4816\\3282521303.py\", line 26, in search_dialogue\n",
      "    text = self.convert_audio_to_text(video_file)\n",
      "           ^^^^^^^^^^^^^^^^^^^^^^^^^^^^^^^^^^^^^^\n",
      "  File \"C:\\Users\\tehre\\AppData\\Local\\Temp\\ipykernel_4816\\3282521303.py\", line 38, in convert_audio_to_text\n",
      "    with audio_file as source:\n",
      "  File \"C:\\Users\\tehre\\anaconda3\\Lib\\site-packages\\speech_recognition\\__init__.py\", line 274, in __enter__\n",
      "    raise ValueError(\"Audio file could not be read as PCM WAV, AIFF/AIFF-C, or Native FLAC; check if file is corrupted or in another format\")\n",
      "ValueError: Audio file could not be read as PCM WAV, AIFF/AIFF-C, or Native FLAC; check if file is corrupted or in another format\n"
     ]
    }
   ],
   "source": [
    "import tkinter as tk\n",
    "from tkinter import filedialog\n",
    "from tkinter import messagebox\n",
    "import speech_recognition as sr\n",
    "\n",
    "class VideoSearchApp(tk.Tk):\n",
    "    def __init__(self):\n",
    "        super().__init__()\n",
    "        self.title(\"Video Search Engine\")\n",
    "\n",
    "        self.search_label = tk.Label(self, text=\"Enter dialogue to search:\")\n",
    "        self.search_label.pack()\n",
    "\n",
    "        self.search_entry = tk.Entry(self)\n",
    "        self.search_entry.pack()\n",
    "\n",
    "        self.search_button = tk.Button(self, text=\"Search\", command=self.search_dialogue)\n",
    "        self.search_button.pack()\n",
    "\n",
    "    def search_dialogue(self):\n",
    "        dialogue = self.search_entry.get()\n",
    "        video_file = filedialog.askopenfilename()\n",
    "\n",
    "        if dialogue and video_file:\n",
    "            # Convert speech to text\n",
    "            text = self.convert_audio_to_text(video_file)\n",
    "\n",
    "            # Search for dialogue in text\n",
    "            timestamps = self.search_text(text, dialogue)\n",
    "\n",
    "            # Display search results\n",
    "            self.display_search_results(timestamps)\n",
    "\n",
    "    def convert_audio_to_text(self, video_file):\n",
    "        recognizer = sr.Recognizer()\n",
    "        audio_file = sr.AudioFile(video_file)\n",
    "\n",
    "        with audio_file as source:\n",
    "            audio_data = recognizer.record(source)\n",
    "\n",
    "        return recognizer.recognize_google(audio_data)\n",
    "\n",
    "    def search_text(self, text, dialogue):\n",
    "        timestamps = []\n",
    "        index = 0\n",
    "\n",
    "        while index < len(text):\n",
    "            index = text.find(dialogue, index)\n",
    "            if index == -1:\n",
    "                break\n",
    "            timestamps.append(self.get_timestamp(text, index))\n",
    "            index += len(dialogue)\n",
    "\n",
    "        return timestamps\n",
    "\n",
    "    def get_timestamp(self, text, index):\n",
    "        minutes = int(text[index - 2:index])\n",
    "        seconds = int(text[index + len(dialogue) + 1:index + len(dialogue) + 3])\n",
    "        return f\"{minutes}:{seconds}\"\n",
    "\n",
    "    def display_search_results(self, timestamps):\n",
    "        if not timestamps:\n",
    "            messagebox.showinfo(\"Search Results\", \"Dialogue not found.\")\n",
    "            return\n",
    "\n",
    "        result_string = \"\\n\".join(timestamps)\n",
    "        messagebox.showinfo(\"Search Results\", result_string)\n",
    "\n",
    "if __name__ == \"__main__\":\n",
    "    app = VideoSearchApp()\n",
    "    app.mainloop()\n"
   ]
  },
  {
   "cell_type": "code",
   "execution_count": null,
   "id": "3471b6ba",
   "metadata": {},
   "outputs": [],
   "source": []
  }
 ],
 "metadata": {
  "kernelspec": {
   "display_name": "Python 3 (ipykernel)",
   "language": "python",
   "name": "python3"
  },
  "language_info": {
   "codemirror_mode": {
    "name": "ipython",
    "version": 3
   },
   "file_extension": ".py",
   "mimetype": "text/x-python",
   "name": "python",
   "nbconvert_exporter": "python",
   "pygments_lexer": "ipython3",
   "version": "3.11.5"
  }
 },
 "nbformat": 4,
 "nbformat_minor": 5
}
